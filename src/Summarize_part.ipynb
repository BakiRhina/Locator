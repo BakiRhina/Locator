{
  "nbformat": 4,
  "nbformat_minor": 0,
  "metadata": {
    "colab": {
      "provenance": [],
      "gpuType": "V100"
    },
    "kernelspec": {
      "name": "python3",
      "display_name": "Python 3"
    },
    "language_info": {
      "name": "python"
    },
    "accelerator": "GPU"
  },
  "cells": [
    {
      "cell_type": "code",
      "source": [
        "#Create drive folder\n",
        "from google.colab import drive\n",
        "drive.mount('/content/drive', force_remount=True)"
      ],
      "metadata": {
        "colab": {
          "base_uri": "https://localhost:8080/"
        },
        "id": "C5wEd8IC80ji",
        "outputId": "80ebaf2e-70de-494c-e4dc-a1ca0867e7e2"
      },
      "execution_count": 1,
      "outputs": [
        {
          "output_type": "stream",
          "name": "stdout",
          "text": [
            "Mounted at /content/drive\n"
          ]
        }
      ]
    },
    {
      "cell_type": "markdown",
      "source": [
        "# Get and process the dataset QMSum\n",
        "Code from : https://github.com/Yale-LILY/QMSum/blob/main/data_process.ipynb"
      ],
      "metadata": {
        "id": "CQRewRH6AZnH"
      }
    },
    {
      "cell_type": "code",
      "source": [
        "import json\n",
        "\n",
        "# read the dataset\n",
        "# please enter the path of your data\n",
        "split = 'val'\n",
        "data_path = 'drive/My Drive/Colab Notebooks/finalproject/' + split + '.jsonl'\n",
        "data = []\n",
        "with open(data_path) as f:\n",
        "    for line in f:\n",
        "        data.append(json.loads(line))\n",
        "n_meetings = len(data)\n",
        "print('Total {} meetings in the {} set.'.format(n_meetings, split))"
      ],
      "metadata": {
        "colab": {
          "base_uri": "https://localhost:8080/"
        },
        "id": "aJLqIIkGAfyX",
        "outputId": "b1f81491-1f7a-4167-cf12-364e8431031e"
      },
      "execution_count": null,
      "outputs": [
        {
          "output_type": "stream",
          "name": "stdout",
          "text": [
            "Total 35 meetings in the val set.\n"
          ]
        }
      ]
    },
    {
      "cell_type": "code",
      "source": [
        "data[0]"
      ],
      "metadata": {
        "id": "m2ivfObDg8U2"
      },
      "execution_count": null,
      "outputs": []
    },
    {
      "cell_type": "code",
      "source": [
        "from nltk import word_tokenize\n",
        "# tokneize a sent\n",
        "def tokenize(sent):\n",
        "    tokens = ' '.join(word_tokenize(sent.lower()))\n",
        "    return tokens"
      ],
      "metadata": {
        "id": "B720zuFHA3ec"
      },
      "execution_count": null,
      "outputs": []
    },
    {
      "cell_type": "code",
      "source": [
        "# filter some noises caused by speech recognition\n",
        "def clean_data(text):\n",
        "    text = text.replace('{ vocalsound } ', '')\n",
        "    text = text.replace('{ disfmarker } ', '')\n",
        "    text = text.replace('a_m_i_', 'ami')\n",
        "    text = text.replace('l_c_d_', 'lcd')\n",
        "    text = text.replace('p_m_s', 'pms')\n",
        "    text = text.replace('t_v_', 'tv')\n",
        "    text = text.replace('{ pause } ', '')\n",
        "    text = text.replace('{ nonvocalsound } ', '')\n",
        "    text = text.replace('{ gap } ', '')\n",
        "    return text"
      ],
      "metadata": {
        "id": "GKwknZ_QA6Gv"
      },
      "execution_count": null,
      "outputs": []
    },
    {
      "cell_type": "code",
      "source": [
        "import nltk\n",
        "nltk.download('punkt')"
      ],
      "metadata": {
        "colab": {
          "base_uri": "https://localhost:8080/"
        },
        "id": "31uBYO3DBAAi",
        "outputId": "33d0a94e-4d03-4a98-fc2d-99dcfb0af832"
      },
      "execution_count": null,
      "outputs": [
        {
          "output_type": "stream",
          "name": "stderr",
          "text": [
            "[nltk_data] Downloading package punkt to /root/nltk_data...\n",
            "[nltk_data]   Package punkt is already up-to-date!\n"
          ]
        },
        {
          "output_type": "execute_result",
          "data": {
            "text/plain": [
              "True"
            ]
          },
          "metadata": {},
          "execution_count": 42
        }
      ]
    },
    {
      "cell_type": "code",
      "source": [
        "# process data for BART\n",
        "# the input of the model here is the gold span corresponding to each query\n",
        "bart_data_gold = []\n",
        "for i in range(len(data)):\n",
        "    # get meeting content\n",
        "    entire_src = []\n",
        "    for k in range(len(data[i]['meeting_transcripts'])):\n",
        "      cur_turn = data[i]['meeting_transcripts'][k]['speaker'].lower() + ': '\n",
        "      cur_turn_content = tokenize(data[i]['meeting_transcripts'][k]['content'])\n",
        "      if len(cur_turn_content.split()) > 5:\n",
        "          cur_turn += cur_turn_content\n",
        "          entire_src.append(cur_turn)\n",
        "    entire_src = ' '.join(entire_src)\n",
        "    for j in range(len(data[i]['general_query_list'])):\n",
        "        cur = {}\n",
        "        query = tokenize(data[i]['general_query_list'][j]['query'])\n",
        "        cur['src'] = clean_data('<s> ' + query + ' </s> ' + entire_src + ' </s>')\n",
        "        target = tokenize(data[i]['general_query_list'][j]['answer'])\n",
        "        cur['tgt'] = target\n",
        "        bart_data_gold.append(cur)\n",
        "    for j in range(len(data[i]['specific_query_list'])):\n",
        "        cur = {}\n",
        "        query = tokenize(data[i]['specific_query_list'][j]['query'])\n",
        "        src = []\n",
        "        # get the content in the gold span for each query\n",
        "        for span in data[i]['specific_query_list'][j]['relevant_text_span']:\n",
        "          assert len(span) == 2\n",
        "          st, ed = int(span[0]), int(span[1])\n",
        "          span_content = []\n",
        "          for k in range(st, ed + 1):\n",
        "              cur_turn = data[i]['meeting_transcripts'][k]['speaker'].lower() + ': '\n",
        "              cur_turn_content = tokenize(data[i]['meeting_transcripts'][k]['content'])\n",
        "              if len(cur_turn_content.split()) > 5:\n",
        "                  cur_turn += cur_turn_content\n",
        "                  span_content.append(cur_turn)\n",
        "          if span_content:\n",
        "              src.append(' '.join(span_content))\n",
        "        src = ' '.join(src)\n",
        "        cur['src'] = clean_data('<s> ' + query + ' </s> ' + src + ' </s>')\n",
        "        target = tokenize(data[i]['specific_query_list'][j]['answer'])\n",
        "        cur['tgt'] = target\n",
        "        bart_data_gold.append(cur)\n",
        "        \n",
        "print('Total {} query-summary pairs in the {} set'.format(len(bart_data_gold), split))\n",
        "print(bart_data_gold[2])\n",
        "with open('drive/My Drive/Colab Notebooks/finalproject/processed_span_' + split + '._gold.jsonl', 'w') as f:\n",
        "    for i in range(len(bart_data_gold)):\n",
        "        print(json.dumps(bart_data_gold[i]), file=f)"
      ],
      "metadata": {
        "id": "SRQHla1XCE_-"
      },
      "execution_count": null,
      "outputs": []
    },
    {
      "cell_type": "code",
      "source": [
        "bart_data_gold[340]"
      ],
      "metadata": {
        "id": "UsVGwhlcSKBd"
      },
      "execution_count": null,
      "outputs": []
    },
    {
      "cell_type": "code",
      "source": [
        "#process the data from our locator\n",
        "import json\n",
        "\n",
        "# Path to the JSON file\n",
        "file_path = 'drive/My Drive/Colab Notebooks/finalproject/final_data_ELECTRA.json'\n",
        "\n",
        "# Load the JSON file\n",
        "with open(file_path, \"r\") as f:\n",
        "    data = json.load(f)\n",
        "\n",
        "# Convert to a list of dictionaries\n",
        "processed_data = []\n",
        "for meeting, content in data.items():\n",
        "    for key, value in content.items():\n",
        "        if key.startswith(\"span\"):\n",
        "            index = key.replace(\"span\", \"\")\n",
        "            answer_key = \"answer\" + index\n",
        "            item = {\"src\": value, \"tgt\": content.get(answer_key)}\n",
        "            processed_data.append(item)"
      ],
      "metadata": {
        "id": "fZbfSOonLmt_"
      },
      "execution_count": 18,
      "outputs": []
    },
    {
      "cell_type": "code",
      "source": [
        "data['meeting: IS1003d.json']['span1']"
      ],
      "metadata": {
        "id": "DExJJ5TVPEA9"
      },
      "execution_count": null,
      "outputs": []
    },
    {
      "cell_type": "code",
      "source": [
        "data['meeting: IS1003d.json']['answer1']"
      ],
      "metadata": {
        "id": "q0SP5ih_PU5K"
      },
      "execution_count": null,
      "outputs": []
    },
    {
      "cell_type": "code",
      "source": [
        "len(processed_data)"
      ],
      "metadata": {
        "id": "OhXiqQMtPXNb",
        "colab": {
          "base_uri": "https://localhost:8080/"
        },
        "outputId": "f162bd6f-b7f6-4bf1-e770-e9ef5a2cc9e6"
      },
      "execution_count": 19,
      "outputs": [
        {
          "output_type": "execute_result",
          "data": {
            "text/plain": [
              "244"
            ]
          },
          "metadata": {},
          "execution_count": 19
        }
      ]
    },
    {
      "cell_type": "markdown",
      "source": [
        "# Get datasets from Drive"
      ],
      "metadata": {
        "id": "vELzP3S3y1Us"
      }
    },
    {
      "cell_type": "code",
      "source": [
        "# function to get the preprocessed jsonl files\n",
        "import json\n",
        "\n",
        "def read_jsonl(file_path):\n",
        "    data = []\n",
        "    with open(file_path, 'r') as f:\n",
        "        for line in f:\n",
        "            data.append(json.loads(line.strip()))\n",
        "    return data"
      ],
      "metadata": {
        "id": "IoqX0tFKrkAc"
      },
      "execution_count": null,
      "outputs": []
    },
    {
      "cell_type": "code",
      "source": [
        "#get preprocessed datasets\n",
        "bart_data_gold_train = read_jsonl('drive/My Drive/Colab Notebooks/finalproject/processed_span_train._gold.jsonl')\n",
        "bart_data_gold_val = read_jsonl('drive/My Drive/Colab Notebooks/finalproject/processed_span_val._gold.jsonl')\n",
        "\n",
        "print(\"Train set len : \", len(bart_data_gold_train))\n",
        "print(\"Val set len : \", len(bart_data_gold_val))\n"
      ],
      "metadata": {
        "colab": {
          "base_uri": "https://localhost:8080/"
        },
        "id": "It5bIcPOrqci",
        "outputId": "9fa0fcf9-e194-40c6-bf82-0a24ebee44fb"
      },
      "execution_count": null,
      "outputs": [
        {
          "output_type": "stream",
          "name": "stdout",
          "text": [
            "Train set len :  1257\n",
            "Val set len :  272\n"
          ]
        }
      ]
    },
    {
      "cell_type": "markdown",
      "source": [
        "# Fine-tuning"
      ],
      "metadata": {
        "id": "c13Y6jylDbHV"
      }
    },
    {
      "cell_type": "code",
      "source": [
        "pip install transformers"
      ],
      "metadata": {
        "id": "pSdp-Jpyf0TS"
      },
      "execution_count": null,
      "outputs": []
    },
    {
      "cell_type": "code",
      "source": [
        "from transformers import BartTokenizer, BartForConditionalGeneration, AdamW\n",
        "import torch\n",
        "\n",
        "# Load the model and tokenizer\n",
        "model_name = \"knkarthick/MEETING_SUMMARY\"\n",
        "tokenizer = BartTokenizer.from_pretrained(model_name)\n",
        "model = BartForConditionalGeneration.from_pretrained(model_name)\n",
        "\n",
        "# Prepare the training data (example)\n",
        "transcriptions = [d[\"src\"] for d in bart_data_gold_train]  # List of meeting transcriptions\n",
        "summaries = [d[\"tgt\"] for d in bart_data_gold_train]  # List of meeting summaries\n",
        "\n",
        "# Encode the data\n",
        "inputs = tokenizer.batch_encode_plus(\n",
        "    transcriptions,\n",
        "    return_tensors=\"pt\",\n",
        "    padding=True,\n",
        "    truncation=True,\n",
        "    max_length=1024\n",
        ")\n",
        "\n",
        "labels = tokenizer.batch_encode_plus(\n",
        "    summaries,\n",
        "    return_tensors=\"pt\",\n",
        "    padding=True,\n",
        "    truncation=True,\n",
        "    max_length=256\n",
        ")\n",
        "\n",
        "# Extract input and output tensors\n",
        "# input_ids = inputs[\"input_ids\"]\n",
        "# attention_mask = inputs[\"attention_mask\"]\n",
        "# labels = labels[\"input_ids\"]\n",
        "input_ids = inputs.input_ids\n",
        "attention_mask = inputs.attention_mask\n",
        "labels = labels.input_ids\n",
        "\n",
        "# Configure training\n",
        "optimizer = AdamW(model.parameters(), lr=1e-5)\n",
        "device = torch.device(\"cuda\" if torch.cuda.is_available() else \"cpu\")\n",
        "model.to(device)\n",
        "input_ids = input_ids.to(device)\n",
        "attention_mask = attention_mask.to(device)\n",
        "labels = labels.to(device)\n",
        "\n",
        "# Training\n",
        "model.train()\n",
        "for epoch in range(3):  # Number of epochs\n",
        "    total_loss = 0\n",
        "    for i in range(len(input_ids)):\n",
        "        optimizer.zero_grad()\n",
        "        outputs = model(input_ids[i].unsqueeze(0), attention_mask=attention_mask[i].unsqueeze(0), labels=labels[i].unsqueeze(0))\n",
        "        loss = outputs.loss\n",
        "        loss.backward()\n",
        "        optimizer.step()\n",
        "        total_loss += loss.item()\n",
        "        if (i + 1) % 10 == 0:\n",
        "            print(f\"Iteration {i+1}/{len(input_ids)} - Loss: {loss.item()}\")\n",
        "    \n",
        "    avg_loss = total_loss / len(input_ids)\n",
        "    print(f\"Epoch {epoch+1}/{5} - Average Loss: {avg_loss}\")\n",
        "    \n"
      ],
      "metadata": {
        "id": "PdbGi0MgGJAq"
      },
      "execution_count": null,
      "outputs": []
    },
    {
      "cell_type": "code",
      "source": [
        "# Save the fine-tuned model\n",
        "model.save_pretrained(\"drive/My Drive/Colab Notebooks/finalproject/trained_model/fine_tuned_meeting_bart\")\n",
        "tokenizer.save_pretrained(\"drive/My Drive/Colab Notebooks/finalproject/trained_model/fine_tuned_meeting_bart\")"
      ],
      "metadata": {
        "id": "-9k8pUQgJxPl"
      },
      "execution_count": null,
      "outputs": []
    },
    {
      "cell_type": "markdown",
      "source": [
        "# Evaluation\n",
        "In this part, we evaluate the validation set with different models"
      ],
      "metadata": {
        "id": "bYPaFeOztnMA"
      }
    },
    {
      "cell_type": "code",
      "source": [
        "!pip install transformers"
      ],
      "metadata": {
        "colab": {
          "base_uri": "https://localhost:8080/"
        },
        "id": "RvMuhRSBw9hp",
        "outputId": "f32200b2-5343-402d-e384-7923243e9eba"
      },
      "execution_count": 4,
      "outputs": [
        {
          "output_type": "stream",
          "name": "stdout",
          "text": [
            "Looking in indexes: https://pypi.org/simple, https://us-python.pkg.dev/colab-wheels/public/simple/\n",
            "Requirement already satisfied: transformers in /usr/local/lib/python3.10/dist-packages (4.29.2)\n",
            "Requirement already satisfied: filelock in /usr/local/lib/python3.10/dist-packages (from transformers) (3.12.0)\n",
            "Requirement already satisfied: huggingface-hub<1.0,>=0.14.1 in /usr/local/lib/python3.10/dist-packages (from transformers) (0.15.1)\n",
            "Requirement already satisfied: numpy>=1.17 in /usr/local/lib/python3.10/dist-packages (from transformers) (1.22.4)\n",
            "Requirement already satisfied: packaging>=20.0 in /usr/local/lib/python3.10/dist-packages (from transformers) (23.1)\n",
            "Requirement already satisfied: pyyaml>=5.1 in /usr/local/lib/python3.10/dist-packages (from transformers) (6.0)\n",
            "Requirement already satisfied: regex!=2019.12.17 in /usr/local/lib/python3.10/dist-packages (from transformers) (2022.10.31)\n",
            "Requirement already satisfied: requests in /usr/local/lib/python3.10/dist-packages (from transformers) (2.27.1)\n",
            "Requirement already satisfied: tokenizers!=0.11.3,<0.14,>=0.11.1 in /usr/local/lib/python3.10/dist-packages (from transformers) (0.13.3)\n",
            "Requirement already satisfied: tqdm>=4.27 in /usr/local/lib/python3.10/dist-packages (from transformers) (4.65.0)\n",
            "Requirement already satisfied: fsspec in /usr/local/lib/python3.10/dist-packages (from huggingface-hub<1.0,>=0.14.1->transformers) (2023.4.0)\n",
            "Requirement already satisfied: typing-extensions>=3.7.4.3 in /usr/local/lib/python3.10/dist-packages (from huggingface-hub<1.0,>=0.14.1->transformers) (4.5.0)\n",
            "Requirement already satisfied: urllib3<1.27,>=1.21.1 in /usr/local/lib/python3.10/dist-packages (from requests->transformers) (1.26.15)\n",
            "Requirement already satisfied: certifi>=2017.4.17 in /usr/local/lib/python3.10/dist-packages (from requests->transformers) (2022.12.7)\n",
            "Requirement already satisfied: charset-normalizer~=2.0.0 in /usr/local/lib/python3.10/dist-packages (from requests->transformers) (2.0.12)\n",
            "Requirement already satisfied: idna<4,>=2.5 in /usr/local/lib/python3.10/dist-packages (from requests->transformers) (3.4)\n"
          ]
        }
      ]
    },
    {
      "cell_type": "code",
      "source": [
        "pip install rouge"
      ],
      "metadata": {
        "colab": {
          "base_uri": "https://localhost:8080/"
        },
        "id": "6ROfKHgofsLa",
        "outputId": "7b72bf6c-49b9-45d8-b17f-f885a238255a"
      },
      "execution_count": 5,
      "outputs": [
        {
          "output_type": "stream",
          "name": "stdout",
          "text": [
            "Looking in indexes: https://pypi.org/simple, https://us-python.pkg.dev/colab-wheels/public/simple/\n",
            "Requirement already satisfied: rouge in /usr/local/lib/python3.10/dist-packages (1.0.1)\n",
            "Requirement already satisfied: six in /usr/local/lib/python3.10/dist-packages (from rouge) (1.16.0)\n"
          ]
        }
      ]
    },
    {
      "cell_type": "code",
      "source": [
        "from transformers import BartTokenizer\n",
        "\n",
        "# Function to truncate the text to a length  max 1024 tokens\n",
        "def truncate_text(text, tokenizer, max_length=1024):\n",
        "    if len(tokenizer.tokenize(text)) < (max_length-3):\n",
        "        #trace\n",
        "        print(\"no truncate : \" + str(len(tokenizer.tokenize(text))))\n",
        "\n",
        "        return text\n",
        "    else:\n",
        "        #trace\n",
        "        before_after = \" \" + str(len(tokenizer.tokenize(text)))\n",
        "\n",
        "        #get the query before encoding\n",
        "        # Find the index of the first and last special tokens\n",
        "        start_token_idx = text.find(\"<s>\")\n",
        "        end_token_idx = text.find(\"</s>\")\n",
        "\n",
        "        # Extract the query between the tags\n",
        "        query = text[start_token_idx+len(\"<s>\"):end_token_idx].strip()\n",
        "\n",
        "        \n",
        "        # Remove the query part and the tags from the text\n",
        "        truncated_text = text[end_token_idx+len(\"</s>\"):].strip()\n",
        "\n",
        "        #encode decode\n",
        "        encoded = tokenizer.encode(truncated_text, truncation=True, max_length=max_length)\n",
        "        truncated_text = tokenizer.decode(encoded, skip_special_tokens=True)\n",
        "\n",
        "        #be sure the length won't be over max_length\n",
        "        additional_length = len(tokenizer.tokenize(\"<s> \" + query + \" </s> \" + \" </s>\"))\n",
        "        \n",
        "        if len(tokenizer.tokenize(truncated_text)) > (max_length - additional_length-3):\n",
        "          truncated_tokens = tokenizer.tokenize(truncated_text)[:(max_length - additional_length-5)]\n",
        "          truncated_text = tokenizer.convert_tokens_to_string(truncated_tokens)\n",
        "          \n",
        "        # Concatenate the query with the truncated text and add the </s> tag at the end\n",
        "        truncated_text = \"<s> \" + query + \" </s> \" + truncated_text + \" </s>\"\n",
        "\n",
        "        #trace\n",
        "        before_after = before_after + \" -> \" + str(len(tokenizer.tokenize(truncated_text)))\n",
        "        print(before_after)\n",
        "        \n",
        "        return truncated_text"
      ],
      "metadata": {
        "id": "Wjm5WSu3F4sM"
      },
      "execution_count": 6,
      "outputs": []
    },
    {
      "cell_type": "code",
      "source": [
        "from transformers import pipeline\n",
        "from transformers import BartForConditionalGeneration, BartTokenizer\n",
        "from rouge import Rouge\n",
        "\n",
        "\n",
        "#function to create the model\n",
        "def evaluate(MODEL_NAME, val_set):\n",
        "\n",
        "  #get model\n",
        "  model = BartForConditionalGeneration.from_pretrained(MODEL_NAME)\n",
        "  tokenizer = BartTokenizer.from_pretrained(MODEL_NAME)\n",
        "\n",
        "  #param model\n",
        "  params = {\n",
        "    \"model\": model,\n",
        "    \"tokenizer\": tokenizer,\n",
        "    \"model_name_or_path\": None,\n",
        "    \"task\": \"summarization\",\n",
        "    \"framework\": \"pt\",\n",
        "    \"device\": 0,\n",
        "    \"max_length\": 350,\n",
        "    \"min_length\": 30,\n",
        "    \"length_penalty\": 2.0,\n",
        "    \"num_beams\": 4,\n",
        "    \"repetition_penalty\": 1.0,\n",
        "    \"no_repeat_ngram_size\": 3,\n",
        "    \"early_stopping\": True,\n",
        "    \"top_k\": 50,\n",
        "    \"top_p\": 0.95,\n",
        "    \"do_sample\": True,\n",
        "    \"temperature\": 1.0,\n",
        "  }\n",
        "\n",
        "  #pipeline\n",
        "  custom_pipeline = pipeline(**params)\n",
        "\n",
        "  #get only relevant span for predicting\n",
        "  inputs = [d[\"src\"] for d in val_set]  # List of meeting transcriptions\n",
        "  ref = [d[\"tgt\"] for d in val_set] #list of reference summarizes\n",
        "\n",
        "  #summarizes\n",
        "  sums = []\n",
        "\n",
        "  #get every sum\n",
        "  for i, text in enumerate(inputs):\n",
        "\n",
        "    #progression\n",
        "    print(\"[---- \"+str(i)+\"----]\")\n",
        "    truncated_text = truncate_text(text,tokenizer, max_length=1024)\n",
        "    print(\"len tokens : \" + str(len(tokenizer.tokenize(truncated_text))) + \" (\"+str(len(truncated_text.split()))+\")\")\n",
        "\n",
        "    summary = custom_pipeline(truncated_text)\n",
        "    sums.append(summary[0]['summary_text'])\n",
        "\n",
        "\n",
        "  return sums,ref"
      ],
      "metadata": {
        "id": "FknX-heatnFI"
      },
      "execution_count": 7,
      "outputs": []
    },
    {
      "cell_type": "code",
      "source": [
        "from statistics import mean\n",
        "def get_rouge_l(sums, refs):\n",
        "\n",
        "  #Get ROUGE Scores\n",
        "  rouge_l_scores = []\n",
        "  rouge_1_scores = []\n",
        "  rouge_2_scores = []\n",
        "\n",
        "  for i in range(len(sums)):\n",
        "    hypothesis = sums[i]\n",
        "    reference = refs[i]\n",
        "    rouge = Rouge()\n",
        "    score = rouge.get_scores([hypothesis], [reference])\n",
        "\n",
        "    #rouge 1\n",
        "    rouge_1_score = score[0][\"rouge-1\"][\"f\"]\n",
        "    rouge_1_scores.append(rouge_1_score)\n",
        "    #rouge 2\n",
        "    rouge_2_score = score[0][\"rouge-2\"][\"f\"]\n",
        "    rouge_2_scores.append(rouge_2_score)\n",
        "    #rouge l\n",
        "    rouge_l_score = score[0][\"rouge-l\"][\"f\"]\n",
        "    rouge_l_scores.append(rouge_l_score)\n",
        "  \n",
        "  return mean(rouge_1_scores), mean(rouge_2_scores), mean(rouge_l_scores)"
      ],
      "metadata": {
        "id": "9YwtiKBaN_dJ"
      },
      "execution_count": 8,
      "outputs": []
    },
    {
      "cell_type": "code",
      "source": [
        "#Models\n",
        "BART = \"facebook/bart-large-cnn\"\n",
        "MEETING_SUM = \"knkarthick/MEETING_SUMMARY\"\n",
        "\n",
        "MY_BART_CNN = \"drive/My Drive/Colab Notebooks/finalproject/trained_model/fine_tuned_bart_cnn\"\n",
        "MY_MEETING_SUM = \"drive/My Drive/Colab Notebooks/finalproject/trained_model/fine_tuned_meeting_bart\"\n",
        "\n",
        "MODEL = MY_MEETING_SUM\n",
        "\n",
        "#get rouge-l score\n",
        "sums, refs = evaluate(MODEL,processed_data)"
      ],
      "metadata": {
        "colab": {
          "base_uri": "https://localhost:8080/"
        },
        "id": "yy2RSKlGtmCY",
        "outputId": "fb15222b-7a9b-4fbd-de09-fb8489c6b339"
      },
      "execution_count": 27,
      "outputs": [
        {
          "output_type": "stream",
          "name": "stderr",
          "text": [
            "Your max_length is set to 350, but your input_length is only 196. Since this is a summarization task, where outputs shorter than the input are typically wanted, you might consider decreasing max_length manually, e.g. summarizer('...', max_length=98)\n"
          ]
        },
        {
          "output_type": "stream",
          "name": "stdout",
          "text": [
            "[---- 0----]\n",
            "no truncate : 194\n",
            "len tokens : 194 (134)\n"
          ]
        },
        {
          "output_type": "stream",
          "name": "stderr",
          "text": [
            "Your max_length is set to 350, but your input_length is only 115. Since this is a summarization task, where outputs shorter than the input are typically wanted, you might consider decreasing max_length manually, e.g. summarizer('...', max_length=57)\n"
          ]
        },
        {
          "output_type": "stream",
          "name": "stdout",
          "text": [
            "[---- 1----]\n",
            "no truncate : 113\n",
            "len tokens : 113 (76)\n"
          ]
        },
        {
          "output_type": "stream",
          "name": "stderr",
          "text": [
            "Your max_length is set to 350, but your input_length is only 153. Since this is a summarization task, where outputs shorter than the input are typically wanted, you might consider decreasing max_length manually, e.g. summarizer('...', max_length=76)\n"
          ]
        },
        {
          "output_type": "stream",
          "name": "stdout",
          "text": [
            "[---- 2----]\n",
            "no truncate : 151\n",
            "len tokens : 151 (104)\n"
          ]
        },
        {
          "output_type": "stream",
          "name": "stderr",
          "text": [
            "Your max_length is set to 350, but your input_length is only 212. Since this is a summarization task, where outputs shorter than the input are typically wanted, you might consider decreasing max_length manually, e.g. summarizer('...', max_length=106)\n"
          ]
        },
        {
          "output_type": "stream",
          "name": "stdout",
          "text": [
            "[---- 3----]\n",
            "no truncate : 210\n",
            "len tokens : 210 (144)\n"
          ]
        },
        {
          "output_type": "stream",
          "name": "stderr",
          "text": [
            "Your max_length is set to 350, but your input_length is only 193. Since this is a summarization task, where outputs shorter than the input are typically wanted, you might consider decreasing max_length manually, e.g. summarizer('...', max_length=96)\n"
          ]
        },
        {
          "output_type": "stream",
          "name": "stdout",
          "text": [
            "[---- 4----]\n",
            "no truncate : 191\n",
            "len tokens : 191 (135)\n"
          ]
        },
        {
          "output_type": "stream",
          "name": "stderr",
          "text": [
            "Your max_length is set to 350, but your input_length is only 161. Since this is a summarization task, where outputs shorter than the input are typically wanted, you might consider decreasing max_length manually, e.g. summarizer('...', max_length=80)\n"
          ]
        },
        {
          "output_type": "stream",
          "name": "stdout",
          "text": [
            "[---- 5----]\n",
            "no truncate : 159\n",
            "len tokens : 159 (110)\n"
          ]
        },
        {
          "output_type": "stream",
          "name": "stderr",
          "text": [
            "Your max_length is set to 350, but your input_length is only 193. Since this is a summarization task, where outputs shorter than the input are typically wanted, you might consider decreasing max_length manually, e.g. summarizer('...', max_length=96)\n"
          ]
        },
        {
          "output_type": "stream",
          "name": "stdout",
          "text": [
            "[---- 6----]\n",
            "no truncate : 191\n",
            "len tokens : 191 (133)\n"
          ]
        },
        {
          "output_type": "stream",
          "name": "stderr",
          "text": [
            "Your max_length is set to 350, but your input_length is only 127. Since this is a summarization task, where outputs shorter than the input are typically wanted, you might consider decreasing max_length manually, e.g. summarizer('...', max_length=63)\n"
          ]
        },
        {
          "output_type": "stream",
          "name": "stdout",
          "text": [
            "[---- 7----]\n",
            "no truncate : 125\n",
            "len tokens : 125 (85)\n"
          ]
        },
        {
          "output_type": "stream",
          "name": "stderr",
          "text": [
            "Your max_length is set to 350, but your input_length is only 159. Since this is a summarization task, where outputs shorter than the input are typically wanted, you might consider decreasing max_length manually, e.g. summarizer('...', max_length=79)\n"
          ]
        },
        {
          "output_type": "stream",
          "name": "stdout",
          "text": [
            "[---- 8----]\n",
            "no truncate : 157\n",
            "len tokens : 157 (106)\n",
            "[---- 9----]\n",
            "no truncate : 724\n",
            "len tokens : 724 (501)\n",
            "[---- 10----]\n",
            "no truncate : 446\n",
            "len tokens : 446 (305)\n",
            "[---- 11----]\n",
            "no truncate : 722\n",
            "len tokens : 722 (502)\n",
            "[---- 12----]\n",
            "no truncate : 446\n",
            "len tokens : 446 (302)\n",
            "[---- 13----]\n",
            "no truncate : 437\n",
            "len tokens : 437 (300)\n",
            "[---- 14----]\n",
            "no truncate : 354\n",
            "len tokens : 354 (237)\n"
          ]
        },
        {
          "output_type": "stream",
          "name": "stderr",
          "text": [
            "Your max_length is set to 350, but your input_length is only 146. Since this is a summarization task, where outputs shorter than the input are typically wanted, you might consider decreasing max_length manually, e.g. summarizer('...', max_length=73)\n"
          ]
        },
        {
          "output_type": "stream",
          "name": "stdout",
          "text": [
            "[---- 15----]\n",
            "no truncate : 144\n",
            "len tokens : 144 (108)\n"
          ]
        },
        {
          "output_type": "stream",
          "name": "stderr",
          "text": [
            "Your max_length is set to 350, but your input_length is only 136. Since this is a summarization task, where outputs shorter than the input are typically wanted, you might consider decreasing max_length manually, e.g. summarizer('...', max_length=68)\n"
          ]
        },
        {
          "output_type": "stream",
          "name": "stdout",
          "text": [
            "[---- 16----]\n",
            "no truncate : 134\n",
            "len tokens : 134 (104)\n"
          ]
        },
        {
          "output_type": "stream",
          "name": "stderr",
          "text": [
            "Your max_length is set to 350, but your input_length is only 154. Since this is a summarization task, where outputs shorter than the input are typically wanted, you might consider decreasing max_length manually, e.g. summarizer('...', max_length=77)\n"
          ]
        },
        {
          "output_type": "stream",
          "name": "stdout",
          "text": [
            "[---- 17----]\n",
            "no truncate : 152\n",
            "len tokens : 152 (118)\n"
          ]
        },
        {
          "output_type": "stream",
          "name": "stderr",
          "text": [
            "Your max_length is set to 350, but your input_length is only 113. Since this is a summarization task, where outputs shorter than the input are typically wanted, you might consider decreasing max_length manually, e.g. summarizer('...', max_length=56)\n"
          ]
        },
        {
          "output_type": "stream",
          "name": "stdout",
          "text": [
            "[---- 18----]\n",
            "no truncate : 111\n",
            "len tokens : 111 (90)\n"
          ]
        },
        {
          "output_type": "stream",
          "name": "stderr",
          "text": [
            "Your max_length is set to 350, but your input_length is only 128. Since this is a summarization task, where outputs shorter than the input are typically wanted, you might consider decreasing max_length manually, e.g. summarizer('...', max_length=64)\n"
          ]
        },
        {
          "output_type": "stream",
          "name": "stdout",
          "text": [
            "[---- 19----]\n",
            "no truncate : 126\n",
            "len tokens : 126 (96)\n"
          ]
        },
        {
          "output_type": "stream",
          "name": "stderr",
          "text": [
            "Your max_length is set to 350, but your input_length is only 123. Since this is a summarization task, where outputs shorter than the input are typically wanted, you might consider decreasing max_length manually, e.g. summarizer('...', max_length=61)\n"
          ]
        },
        {
          "output_type": "stream",
          "name": "stdout",
          "text": [
            "[---- 20----]\n",
            "no truncate : 121\n",
            "len tokens : 121 (93)\n",
            "[---- 21----]\n",
            "no truncate : 440\n",
            "len tokens : 440 (359)\n"
          ]
        },
        {
          "output_type": "stream",
          "name": "stderr",
          "text": [
            "Your max_length is set to 350, but your input_length is only 247. Since this is a summarization task, where outputs shorter than the input are typically wanted, you might consider decreasing max_length manually, e.g. summarizer('...', max_length=123)\n"
          ]
        },
        {
          "output_type": "stream",
          "name": "stdout",
          "text": [
            "[---- 22----]\n",
            "no truncate : 245\n",
            "len tokens : 245 (206)\n",
            "[---- 23----]\n",
            "no truncate : 399\n",
            "len tokens : 399 (331)\n",
            "[---- 24----]\n",
            "no truncate : 413\n",
            "len tokens : 413 (336)\n",
            "[---- 25----]\n",
            "no truncate : 365\n",
            "len tokens : 365 (300)\n"
          ]
        },
        {
          "output_type": "stream",
          "name": "stderr",
          "text": [
            "Your max_length is set to 350, but your input_length is only 325. Since this is a summarization task, where outputs shorter than the input are typically wanted, you might consider decreasing max_length manually, e.g. summarizer('...', max_length=162)\n"
          ]
        },
        {
          "output_type": "stream",
          "name": "stdout",
          "text": [
            "[---- 26----]\n",
            "no truncate : 323\n",
            "len tokens : 323 (266)\n"
          ]
        },
        {
          "output_type": "stream",
          "name": "stderr",
          "text": [
            "Your max_length is set to 350, but your input_length is only 326. Since this is a summarization task, where outputs shorter than the input are typically wanted, you might consider decreasing max_length manually, e.g. summarizer('...', max_length=163)\n"
          ]
        },
        {
          "output_type": "stream",
          "name": "stdout",
          "text": [
            "[---- 27----]\n",
            "no truncate : 324\n",
            "len tokens : 324 (267)\n",
            "[---- 28----]\n",
            "no truncate : 489\n",
            "len tokens : 489 (394)\n"
          ]
        },
        {
          "output_type": "stream",
          "name": "stderr",
          "text": [
            "Your max_length is set to 350, but your input_length is only 292. Since this is a summarization task, where outputs shorter than the input are typically wanted, you might consider decreasing max_length manually, e.g. summarizer('...', max_length=146)\n"
          ]
        },
        {
          "output_type": "stream",
          "name": "stdout",
          "text": [
            "[---- 29----]\n",
            "no truncate : 290\n",
            "len tokens : 290 (236)\n"
          ]
        },
        {
          "output_type": "stream",
          "name": "stderr",
          "text": [
            "Your max_length is set to 350, but your input_length is only 319. Since this is a summarization task, where outputs shorter than the input are typically wanted, you might consider decreasing max_length manually, e.g. summarizer('...', max_length=159)\n"
          ]
        },
        {
          "output_type": "stream",
          "name": "stdout",
          "text": [
            "[---- 30----]\n",
            "no truncate : 317\n",
            "len tokens : 317 (264)\n"
          ]
        },
        {
          "output_type": "stream",
          "name": "stderr",
          "text": [
            "Your max_length is set to 350, but your input_length is only 170. Since this is a summarization task, where outputs shorter than the input are typically wanted, you might consider decreasing max_length manually, e.g. summarizer('...', max_length=85)\n"
          ]
        },
        {
          "output_type": "stream",
          "name": "stdout",
          "text": [
            "[---- 31----]\n",
            "no truncate : 168\n",
            "len tokens : 168 (129)\n"
          ]
        },
        {
          "output_type": "stream",
          "name": "stderr",
          "text": [
            "Your max_length is set to 350, but your input_length is only 185. Since this is a summarization task, where outputs shorter than the input are typically wanted, you might consider decreasing max_length manually, e.g. summarizer('...', max_length=92)\n"
          ]
        },
        {
          "output_type": "stream",
          "name": "stdout",
          "text": [
            "[---- 32----]\n",
            "no truncate : 183\n",
            "len tokens : 183 (138)\n"
          ]
        },
        {
          "output_type": "stream",
          "name": "stderr",
          "text": [
            "Your max_length is set to 350, but your input_length is only 186. Since this is a summarization task, where outputs shorter than the input are typically wanted, you might consider decreasing max_length manually, e.g. summarizer('...', max_length=93)\n"
          ]
        },
        {
          "output_type": "stream",
          "name": "stdout",
          "text": [
            "[---- 33----]\n",
            "no truncate : 184\n",
            "len tokens : 184 (140)\n"
          ]
        },
        {
          "output_type": "stream",
          "name": "stderr",
          "text": [
            "Your max_length is set to 350, but your input_length is only 96. Since this is a summarization task, where outputs shorter than the input are typically wanted, you might consider decreasing max_length manually, e.g. summarizer('...', max_length=48)\n"
          ]
        },
        {
          "output_type": "stream",
          "name": "stdout",
          "text": [
            "[---- 34----]\n",
            "no truncate : 94\n",
            "len tokens : 94 (69)\n"
          ]
        },
        {
          "output_type": "stream",
          "name": "stderr",
          "text": [
            "Your max_length is set to 350, but your input_length is only 74. Since this is a summarization task, where outputs shorter than the input are typically wanted, you might consider decreasing max_length manually, e.g. summarizer('...', max_length=37)\n"
          ]
        },
        {
          "output_type": "stream",
          "name": "stdout",
          "text": [
            "[---- 35----]\n",
            "no truncate : 72\n",
            "len tokens : 72 (55)\n"
          ]
        },
        {
          "output_type": "stream",
          "name": "stderr",
          "text": [
            "Your max_length is set to 350, but your input_length is only 98. Since this is a summarization task, where outputs shorter than the input are typically wanted, you might consider decreasing max_length manually, e.g. summarizer('...', max_length=49)\n"
          ]
        },
        {
          "output_type": "stream",
          "name": "stdout",
          "text": [
            "[---- 36----]\n",
            "no truncate : 96\n",
            "len tokens : 96 (73)\n"
          ]
        },
        {
          "output_type": "stream",
          "name": "stderr",
          "text": [
            "Your max_length is set to 350, but your input_length is only 96. Since this is a summarization task, where outputs shorter than the input are typically wanted, you might consider decreasing max_length manually, e.g. summarizer('...', max_length=48)\n"
          ]
        },
        {
          "output_type": "stream",
          "name": "stdout",
          "text": [
            "[---- 37----]\n",
            "no truncate : 94\n",
            "len tokens : 94 (73)\n"
          ]
        },
        {
          "output_type": "stream",
          "name": "stderr",
          "text": [
            "Your max_length is set to 350, but your input_length is only 94. Since this is a summarization task, where outputs shorter than the input are typically wanted, you might consider decreasing max_length manually, e.g. summarizer('...', max_length=47)\n"
          ]
        },
        {
          "output_type": "stream",
          "name": "stdout",
          "text": [
            "[---- 38----]\n",
            "no truncate : 92\n",
            "len tokens : 92 (66)\n"
          ]
        },
        {
          "output_type": "stream",
          "name": "stderr",
          "text": [
            "Your max_length is set to 350, but your input_length is only 93. Since this is a summarization task, where outputs shorter than the input are typically wanted, you might consider decreasing max_length manually, e.g. summarizer('...', max_length=46)\n"
          ]
        },
        {
          "output_type": "stream",
          "name": "stdout",
          "text": [
            "[---- 39----]\n",
            "no truncate : 91\n",
            "len tokens : 91 (69)\n"
          ]
        },
        {
          "output_type": "stream",
          "name": "stderr",
          "text": [
            "Your max_length is set to 350, but your input_length is only 127. Since this is a summarization task, where outputs shorter than the input are typically wanted, you might consider decreasing max_length manually, e.g. summarizer('...', max_length=63)\n"
          ]
        },
        {
          "output_type": "stream",
          "name": "stdout",
          "text": [
            "[---- 40----]\n",
            "no truncate : 125\n",
            "len tokens : 125 (86)\n"
          ]
        },
        {
          "output_type": "stream",
          "name": "stderr",
          "text": [
            "Your max_length is set to 350, but your input_length is only 102. Since this is a summarization task, where outputs shorter than the input are typically wanted, you might consider decreasing max_length manually, e.g. summarizer('...', max_length=51)\n"
          ]
        },
        {
          "output_type": "stream",
          "name": "stdout",
          "text": [
            "[---- 41----]\n",
            "no truncate : 100\n",
            "len tokens : 100 (74)\n"
          ]
        },
        {
          "output_type": "stream",
          "name": "stderr",
          "text": [
            "Your max_length is set to 350, but your input_length is only 119. Since this is a summarization task, where outputs shorter than the input are typically wanted, you might consider decreasing max_length manually, e.g. summarizer('...', max_length=59)\n"
          ]
        },
        {
          "output_type": "stream",
          "name": "stdout",
          "text": [
            "[---- 42----]\n",
            "no truncate : 117\n",
            "len tokens : 117 (86)\n"
          ]
        },
        {
          "output_type": "stream",
          "name": "stderr",
          "text": [
            "Your max_length is set to 350, but your input_length is only 69. Since this is a summarization task, where outputs shorter than the input are typically wanted, you might consider decreasing max_length manually, e.g. summarizer('...', max_length=34)\n"
          ]
        },
        {
          "output_type": "stream",
          "name": "stdout",
          "text": [
            "[---- 43----]\n",
            "no truncate : 67\n",
            "len tokens : 67 (51)\n"
          ]
        },
        {
          "output_type": "stream",
          "name": "stderr",
          "text": [
            "Your max_length is set to 350, but your input_length is only 290. Since this is a summarization task, where outputs shorter than the input are typically wanted, you might consider decreasing max_length manually, e.g. summarizer('...', max_length=145)\n"
          ]
        },
        {
          "output_type": "stream",
          "name": "stdout",
          "text": [
            "[---- 44----]\n",
            "no truncate : 288\n",
            "len tokens : 288 (201)\n",
            "[---- 45----]\n",
            "no truncate : 354\n",
            "len tokens : 354 (262)\n"
          ]
        },
        {
          "output_type": "stream",
          "name": "stderr",
          "text": [
            "Your max_length is set to 350, but your input_length is only 127. Since this is a summarization task, where outputs shorter than the input are typically wanted, you might consider decreasing max_length manually, e.g. summarizer('...', max_length=63)\n"
          ]
        },
        {
          "output_type": "stream",
          "name": "stdout",
          "text": [
            "[---- 46----]\n",
            "no truncate : 125\n",
            "len tokens : 125 (87)\n"
          ]
        },
        {
          "output_type": "stream",
          "name": "stderr",
          "text": [
            "Your max_length is set to 350, but your input_length is only 247. Since this is a summarization task, where outputs shorter than the input are typically wanted, you might consider decreasing max_length manually, e.g. summarizer('...', max_length=123)\n"
          ]
        },
        {
          "output_type": "stream",
          "name": "stdout",
          "text": [
            "[---- 47----]\n",
            "no truncate : 245\n",
            "len tokens : 245 (171)\n"
          ]
        },
        {
          "output_type": "stream",
          "name": "stderr",
          "text": [
            "Your max_length is set to 350, but your input_length is only 213. Since this is a summarization task, where outputs shorter than the input are typically wanted, you might consider decreasing max_length manually, e.g. summarizer('...', max_length=106)\n"
          ]
        },
        {
          "output_type": "stream",
          "name": "stdout",
          "text": [
            "[---- 48----]\n",
            "no truncate : 211\n",
            "len tokens : 211 (144)\n"
          ]
        },
        {
          "output_type": "stream",
          "name": "stderr",
          "text": [
            "Your max_length is set to 350, but your input_length is only 212. Since this is a summarization task, where outputs shorter than the input are typically wanted, you might consider decreasing max_length manually, e.g. summarizer('...', max_length=106)\n"
          ]
        },
        {
          "output_type": "stream",
          "name": "stdout",
          "text": [
            "[---- 49----]\n",
            "no truncate : 210\n",
            "len tokens : 210 (143)\n"
          ]
        },
        {
          "output_type": "stream",
          "name": "stderr",
          "text": [
            "Your max_length is set to 350, but your input_length is only 65. Since this is a summarization task, where outputs shorter than the input are typically wanted, you might consider decreasing max_length manually, e.g. summarizer('...', max_length=32)\n"
          ]
        },
        {
          "output_type": "stream",
          "name": "stdout",
          "text": [
            "[---- 50----]\n",
            "no truncate : 63\n",
            "len tokens : 63 (59)\n"
          ]
        },
        {
          "output_type": "stream",
          "name": "stderr",
          "text": [
            "Your max_length is set to 350, but your input_length is only 14. Since this is a summarization task, where outputs shorter than the input are typically wanted, you might consider decreasing max_length manually, e.g. summarizer('...', max_length=7)\n"
          ]
        },
        {
          "output_type": "stream",
          "name": "stdout",
          "text": [
            "[---- 51----]\n",
            "no truncate : 12\n",
            "len tokens : 12 (12)\n",
            "[---- 52----]\n",
            "no truncate : 371\n",
            "len tokens : 371 (311)\n"
          ]
        },
        {
          "output_type": "stream",
          "name": "stderr",
          "text": [
            "Your max_length is set to 350, but your input_length is only 298. Since this is a summarization task, where outputs shorter than the input are typically wanted, you might consider decreasing max_length manually, e.g. summarizer('...', max_length=149)\n"
          ]
        },
        {
          "output_type": "stream",
          "name": "stdout",
          "text": [
            "[---- 53----]\n",
            "no truncate : 296\n",
            "len tokens : 296 (243)\n"
          ]
        },
        {
          "output_type": "stream",
          "name": "stderr",
          "text": [
            "Your max_length is set to 350, but your input_length is only 84. Since this is a summarization task, where outputs shorter than the input are typically wanted, you might consider decreasing max_length manually, e.g. summarizer('...', max_length=42)\n"
          ]
        },
        {
          "output_type": "stream",
          "name": "stdout",
          "text": [
            "[---- 54----]\n",
            "no truncate : 82\n",
            "len tokens : 82 (74)\n",
            "[---- 55----]\n",
            "no truncate : 356\n",
            "len tokens : 356 (300)\n"
          ]
        },
        {
          "output_type": "stream",
          "name": "stderr",
          "text": [
            "Your max_length is set to 350, but your input_length is only 105. Since this is a summarization task, where outputs shorter than the input are typically wanted, you might consider decreasing max_length manually, e.g. summarizer('...', max_length=52)\n"
          ]
        },
        {
          "output_type": "stream",
          "name": "stdout",
          "text": [
            "[---- 56----]\n",
            "no truncate : 103\n",
            "len tokens : 103 (70)\n"
          ]
        },
        {
          "output_type": "stream",
          "name": "stderr",
          "text": [
            "Your max_length is set to 350, but your input_length is only 79. Since this is a summarization task, where outputs shorter than the input are typically wanted, you might consider decreasing max_length manually, e.g. summarizer('...', max_length=39)\n"
          ]
        },
        {
          "output_type": "stream",
          "name": "stdout",
          "text": [
            "[---- 57----]\n",
            "no truncate : 77\n",
            "len tokens : 77 (57)\n"
          ]
        },
        {
          "output_type": "stream",
          "name": "stderr",
          "text": [
            "Your max_length is set to 350, but your input_length is only 79. Since this is a summarization task, where outputs shorter than the input are typically wanted, you might consider decreasing max_length manually, e.g. summarizer('...', max_length=39)\n"
          ]
        },
        {
          "output_type": "stream",
          "name": "stdout",
          "text": [
            "[---- 58----]\n",
            "no truncate : 77\n",
            "len tokens : 77 (57)\n"
          ]
        },
        {
          "output_type": "stream",
          "name": "stderr",
          "text": [
            "Your max_length is set to 350, but your input_length is only 104. Since this is a summarization task, where outputs shorter than the input are typically wanted, you might consider decreasing max_length manually, e.g. summarizer('...', max_length=52)\n"
          ]
        },
        {
          "output_type": "stream",
          "name": "stdout",
          "text": [
            "[---- 59----]\n",
            "no truncate : 102\n",
            "len tokens : 102 (69)\n"
          ]
        },
        {
          "output_type": "stream",
          "name": "stderr",
          "text": [
            "Your max_length is set to 350, but your input_length is only 97. Since this is a summarization task, where outputs shorter than the input are typically wanted, you might consider decreasing max_length manually, e.g. summarizer('...', max_length=48)\n"
          ]
        },
        {
          "output_type": "stream",
          "name": "stdout",
          "text": [
            "[---- 60----]\n",
            "no truncate : 95\n",
            "len tokens : 95 (68)\n"
          ]
        },
        {
          "output_type": "stream",
          "name": "stderr",
          "text": [
            "Your max_length is set to 350, but your input_length is only 81. Since this is a summarization task, where outputs shorter than the input are typically wanted, you might consider decreasing max_length manually, e.g. summarizer('...', max_length=40)\n"
          ]
        },
        {
          "output_type": "stream",
          "name": "stdout",
          "text": [
            "[---- 61----]\n",
            "no truncate : 79\n",
            "len tokens : 79 (59)\n"
          ]
        },
        {
          "output_type": "stream",
          "name": "stderr",
          "text": [
            "Your max_length is set to 350, but your input_length is only 127. Since this is a summarization task, where outputs shorter than the input are typically wanted, you might consider decreasing max_length manually, e.g. summarizer('...', max_length=63)\n"
          ]
        },
        {
          "output_type": "stream",
          "name": "stdout",
          "text": [
            "[---- 62----]\n",
            "no truncate : 125\n",
            "len tokens : 125 (88)\n"
          ]
        },
        {
          "output_type": "stream",
          "name": "stderr",
          "text": [
            "Your max_length is set to 350, but your input_length is only 88. Since this is a summarization task, where outputs shorter than the input are typically wanted, you might consider decreasing max_length manually, e.g. summarizer('...', max_length=44)\n"
          ]
        },
        {
          "output_type": "stream",
          "name": "stdout",
          "text": [
            "[---- 63----]\n",
            "no truncate : 86\n",
            "len tokens : 86 (61)\n"
          ]
        },
        {
          "output_type": "stream",
          "name": "stderr",
          "text": [
            "Your max_length is set to 350, but your input_length is only 86. Since this is a summarization task, where outputs shorter than the input are typically wanted, you might consider decreasing max_length manually, e.g. summarizer('...', max_length=43)\n"
          ]
        },
        {
          "output_type": "stream",
          "name": "stdout",
          "text": [
            "[---- 64----]\n",
            "no truncate : 84\n",
            "len tokens : 84 (59)\n"
          ]
        },
        {
          "output_type": "stream",
          "name": "stderr",
          "text": [
            "Your max_length is set to 350, but your input_length is only 197. Since this is a summarization task, where outputs shorter than the input are typically wanted, you might consider decreasing max_length manually, e.g. summarizer('...', max_length=98)\n"
          ]
        },
        {
          "output_type": "stream",
          "name": "stdout",
          "text": [
            "[---- 65----]\n",
            "no truncate : 195\n",
            "len tokens : 195 (149)\n"
          ]
        },
        {
          "output_type": "stream",
          "name": "stderr",
          "text": [
            "Your max_length is set to 350, but your input_length is only 213. Since this is a summarization task, where outputs shorter than the input are typically wanted, you might consider decreasing max_length manually, e.g. summarizer('...', max_length=106)\n"
          ]
        },
        {
          "output_type": "stream",
          "name": "stdout",
          "text": [
            "[---- 66----]\n",
            "no truncate : 211\n",
            "len tokens : 211 (161)\n"
          ]
        },
        {
          "output_type": "stream",
          "name": "stderr",
          "text": [
            "Your max_length is set to 350, but your input_length is only 215. Since this is a summarization task, where outputs shorter than the input are typically wanted, you might consider decreasing max_length manually, e.g. summarizer('...', max_length=107)\n"
          ]
        },
        {
          "output_type": "stream",
          "name": "stdout",
          "text": [
            "[---- 67----]\n",
            "no truncate : 213\n",
            "len tokens : 213 (165)\n"
          ]
        },
        {
          "output_type": "stream",
          "name": "stderr",
          "text": [
            "Your max_length is set to 350, but your input_length is only 255. Since this is a summarization task, where outputs shorter than the input are typically wanted, you might consider decreasing max_length manually, e.g. summarizer('...', max_length=127)\n"
          ]
        },
        {
          "output_type": "stream",
          "name": "stdout",
          "text": [
            "[---- 68----]\n",
            "no truncate : 253\n",
            "len tokens : 253 (197)\n"
          ]
        },
        {
          "output_type": "stream",
          "name": "stderr",
          "text": [
            "Your max_length is set to 350, but your input_length is only 209. Since this is a summarization task, where outputs shorter than the input are typically wanted, you might consider decreasing max_length manually, e.g. summarizer('...', max_length=104)\n"
          ]
        },
        {
          "output_type": "stream",
          "name": "stdout",
          "text": [
            "[---- 69----]\n",
            "no truncate : 207\n",
            "len tokens : 207 (161)\n"
          ]
        },
        {
          "output_type": "stream",
          "name": "stderr",
          "text": [
            "Your max_length is set to 350, but your input_length is only 211. Since this is a summarization task, where outputs shorter than the input are typically wanted, you might consider decreasing max_length manually, e.g. summarizer('...', max_length=105)\n"
          ]
        },
        {
          "output_type": "stream",
          "name": "stdout",
          "text": [
            "[---- 70----]\n",
            "no truncate : 209\n",
            "len tokens : 209 (159)\n"
          ]
        },
        {
          "output_type": "stream",
          "name": "stderr",
          "text": [
            "Your max_length is set to 350, but your input_length is only 217. Since this is a summarization task, where outputs shorter than the input are typically wanted, you might consider decreasing max_length manually, e.g. summarizer('...', max_length=108)\n"
          ]
        },
        {
          "output_type": "stream",
          "name": "stdout",
          "text": [
            "[---- 71----]\n",
            "no truncate : 215\n",
            "len tokens : 215 (167)\n"
          ]
        },
        {
          "output_type": "stream",
          "name": "stderr",
          "text": [
            "Your max_length is set to 350, but your input_length is only 128. Since this is a summarization task, where outputs shorter than the input are typically wanted, you might consider decreasing max_length manually, e.g. summarizer('...', max_length=64)\n"
          ]
        },
        {
          "output_type": "stream",
          "name": "stdout",
          "text": [
            "[---- 72----]\n",
            "no truncate : 126\n",
            "len tokens : 126 (94)\n"
          ]
        },
        {
          "output_type": "stream",
          "name": "stderr",
          "text": [
            "Your max_length is set to 350, but your input_length is only 218. Since this is a summarization task, where outputs shorter than the input are typically wanted, you might consider decreasing max_length manually, e.g. summarizer('...', max_length=109)\n"
          ]
        },
        {
          "output_type": "stream",
          "name": "stdout",
          "text": [
            "[---- 73----]\n",
            "no truncate : 216\n",
            "len tokens : 216 (164)\n"
          ]
        },
        {
          "output_type": "stream",
          "name": "stderr",
          "text": [
            "Your max_length is set to 350, but your input_length is only 207. Since this is a summarization task, where outputs shorter than the input are typically wanted, you might consider decreasing max_length manually, e.g. summarizer('...', max_length=103)\n"
          ]
        },
        {
          "output_type": "stream",
          "name": "stdout",
          "text": [
            "[---- 74----]\n",
            "no truncate : 205\n",
            "len tokens : 205 (158)\n"
          ]
        },
        {
          "output_type": "stream",
          "name": "stderr",
          "text": [
            "Your max_length is set to 350, but your input_length is only 201. Since this is a summarization task, where outputs shorter than the input are typically wanted, you might consider decreasing max_length manually, e.g. summarizer('...', max_length=100)\n"
          ]
        },
        {
          "output_type": "stream",
          "name": "stdout",
          "text": [
            "[---- 75----]\n",
            "no truncate : 199\n",
            "len tokens : 199 (153)\n"
          ]
        },
        {
          "output_type": "stream",
          "name": "stderr",
          "text": [
            "Your max_length is set to 350, but your input_length is only 104. Since this is a summarization task, where outputs shorter than the input are typically wanted, you might consider decreasing max_length manually, e.g. summarizer('...', max_length=52)\n"
          ]
        },
        {
          "output_type": "stream",
          "name": "stdout",
          "text": [
            "[---- 76----]\n",
            "no truncate : 102\n",
            "len tokens : 102 (73)\n"
          ]
        },
        {
          "output_type": "stream",
          "name": "stderr",
          "text": [
            "Your max_length is set to 350, but your input_length is only 178. Since this is a summarization task, where outputs shorter than the input are typically wanted, you might consider decreasing max_length manually, e.g. summarizer('...', max_length=89)\n"
          ]
        },
        {
          "output_type": "stream",
          "name": "stdout",
          "text": [
            "[---- 77----]\n",
            "no truncate : 176\n",
            "len tokens : 176 (124)\n"
          ]
        },
        {
          "output_type": "stream",
          "name": "stderr",
          "text": [
            "Your max_length is set to 350, but your input_length is only 137. Since this is a summarization task, where outputs shorter than the input are typically wanted, you might consider decreasing max_length manually, e.g. summarizer('...', max_length=68)\n"
          ]
        },
        {
          "output_type": "stream",
          "name": "stdout",
          "text": [
            "[---- 78----]\n",
            "no truncate : 135\n",
            "len tokens : 135 (93)\n"
          ]
        },
        {
          "output_type": "stream",
          "name": "stderr",
          "text": [
            "Your max_length is set to 350, but your input_length is only 123. Since this is a summarization task, where outputs shorter than the input are typically wanted, you might consider decreasing max_length manually, e.g. summarizer('...', max_length=61)\n"
          ]
        },
        {
          "output_type": "stream",
          "name": "stdout",
          "text": [
            "[---- 79----]\n",
            "no truncate : 121\n",
            "len tokens : 121 (87)\n"
          ]
        },
        {
          "output_type": "stream",
          "name": "stderr",
          "text": [
            "Your max_length is set to 350, but your input_length is only 49. Since this is a summarization task, where outputs shorter than the input are typically wanted, you might consider decreasing max_length manually, e.g. summarizer('...', max_length=24)\n"
          ]
        },
        {
          "output_type": "stream",
          "name": "stdout",
          "text": [
            "[---- 80----]\n",
            "no truncate : 47\n",
            "len tokens : 47 (29)\n"
          ]
        },
        {
          "output_type": "stream",
          "name": "stderr",
          "text": [
            "Your max_length is set to 350, but your input_length is only 97. Since this is a summarization task, where outputs shorter than the input are typically wanted, you might consider decreasing max_length manually, e.g. summarizer('...', max_length=48)\n"
          ]
        },
        {
          "output_type": "stream",
          "name": "stdout",
          "text": [
            "[---- 81----]\n",
            "no truncate : 95\n",
            "len tokens : 95 (66)\n"
          ]
        },
        {
          "output_type": "stream",
          "name": "stderr",
          "text": [
            "Your max_length is set to 350, but your input_length is only 229. Since this is a summarization task, where outputs shorter than the input are typically wanted, you might consider decreasing max_length manually, e.g. summarizer('...', max_length=114)\n"
          ]
        },
        {
          "output_type": "stream",
          "name": "stdout",
          "text": [
            "[---- 82----]\n",
            "no truncate : 227\n",
            "len tokens : 227 (200)\n",
            "[---- 83----]\n",
            "no truncate : 441\n",
            "len tokens : 441 (385)\n",
            "[---- 84----]\n",
            "no truncate : 434\n",
            "len tokens : 434 (379)\n",
            "[---- 85----]\n",
            "no truncate : 437\n",
            "len tokens : 437 (380)\n",
            "[---- 86----]\n",
            "no truncate : 459\n",
            "len tokens : 459 (393)\n",
            "[---- 87----]\n",
            "no truncate : 490\n",
            "len tokens : 490 (413)\n",
            "[---- 88----]\n",
            "no truncate : 485\n",
            "len tokens : 485 (413)\n"
          ]
        },
        {
          "output_type": "stream",
          "name": "stderr",
          "text": [
            "Your max_length is set to 350, but your input_length is only 40. Since this is a summarization task, where outputs shorter than the input are typically wanted, you might consider decreasing max_length manually, e.g. summarizer('...', max_length=20)\n"
          ]
        },
        {
          "output_type": "stream",
          "name": "stdout",
          "text": [
            "[---- 89----]\n",
            "no truncate : 38\n",
            "len tokens : 38 (29)\n",
            "[---- 90----]\n",
            "no truncate : 442\n",
            "len tokens : 442 (386)\n",
            "[---- 91----]\n",
            "no truncate : 529\n",
            "len tokens : 529 (447)\n"
          ]
        },
        {
          "output_type": "stream",
          "name": "stderr",
          "text": [
            "Your max_length is set to 350, but your input_length is only 63. Since this is a summarization task, where outputs shorter than the input are typically wanted, you might consider decreasing max_length manually, e.g. summarizer('...', max_length=31)\n"
          ]
        },
        {
          "output_type": "stream",
          "name": "stdout",
          "text": [
            "[---- 92----]\n",
            "no truncate : 61\n",
            "len tokens : 61 (43)\n",
            "[---- 93----]\n",
            "no truncate : 435\n",
            "len tokens : 435 (344)\n"
          ]
        },
        {
          "output_type": "stream",
          "name": "stderr",
          "text": [
            "Your max_length is set to 350, but your input_length is only 149. Since this is a summarization task, where outputs shorter than the input are typically wanted, you might consider decreasing max_length manually, e.g. summarizer('...', max_length=74)\n"
          ]
        },
        {
          "output_type": "stream",
          "name": "stdout",
          "text": [
            "[---- 94----]\n",
            "no truncate : 147\n",
            "len tokens : 147 (125)\n"
          ]
        },
        {
          "output_type": "stream",
          "name": "stderr",
          "text": [
            "Your max_length is set to 350, but your input_length is only 134. Since this is a summarization task, where outputs shorter than the input are typically wanted, you might consider decreasing max_length manually, e.g. summarizer('...', max_length=67)\n"
          ]
        },
        {
          "output_type": "stream",
          "name": "stdout",
          "text": [
            "[---- 95----]\n",
            "no truncate : 132\n",
            "len tokens : 132 (115)\n",
            "[---- 96----]\n",
            "no truncate : 558\n",
            "len tokens : 558 (490)\n"
          ]
        },
        {
          "output_type": "stream",
          "name": "stderr",
          "text": [
            "Your max_length is set to 350, but your input_length is only 140. Since this is a summarization task, where outputs shorter than the input are typically wanted, you might consider decreasing max_length manually, e.g. summarizer('...', max_length=70)\n"
          ]
        },
        {
          "output_type": "stream",
          "name": "stdout",
          "text": [
            "[---- 97----]\n",
            "no truncate : 138\n",
            "len tokens : 138 (121)\n"
          ]
        },
        {
          "output_type": "stream",
          "name": "stderr",
          "text": [
            "Your max_length is set to 350, but your input_length is only 17. Since this is a summarization task, where outputs shorter than the input are typically wanted, you might consider decreasing max_length manually, e.g. summarizer('...', max_length=8)\n"
          ]
        },
        {
          "output_type": "stream",
          "name": "stdout",
          "text": [
            "[---- 98----]\n",
            "no truncate : 15\n",
            "len tokens : 15 (15)\n"
          ]
        },
        {
          "output_type": "stream",
          "name": "stderr",
          "text": [
            "Your max_length is set to 350, but your input_length is only 20. Since this is a summarization task, where outputs shorter than the input are typically wanted, you might consider decreasing max_length manually, e.g. summarizer('...', max_length=10)\n"
          ]
        },
        {
          "output_type": "stream",
          "name": "stdout",
          "text": [
            "[---- 99----]\n",
            "no truncate : 18\n",
            "len tokens : 18 (18)\n"
          ]
        },
        {
          "output_type": "stream",
          "name": "stderr",
          "text": [
            "Your max_length is set to 350, but your input_length is only 35. Since this is a summarization task, where outputs shorter than the input are typically wanted, you might consider decreasing max_length manually, e.g. summarizer('...', max_length=17)\n"
          ]
        },
        {
          "output_type": "stream",
          "name": "stdout",
          "text": [
            "[---- 100----]\n",
            "no truncate : 33\n",
            "len tokens : 33 (27)\n",
            "[---- 101----]\n",
            "no truncate : 502\n",
            "len tokens : 502 (451)\n"
          ]
        },
        {
          "output_type": "stream",
          "name": "stderr",
          "text": [
            "Your max_length is set to 350, but your input_length is only 316. Since this is a summarization task, where outputs shorter than the input are typically wanted, you might consider decreasing max_length manually, e.g. summarizer('...', max_length=158)\n"
          ]
        },
        {
          "output_type": "stream",
          "name": "stdout",
          "text": [
            "[---- 102----]\n",
            "no truncate : 314\n",
            "len tokens : 314 (274)\n"
          ]
        },
        {
          "output_type": "stream",
          "name": "stderr",
          "text": [
            "Your max_length is set to 350, but your input_length is only 247. Since this is a summarization task, where outputs shorter than the input are typically wanted, you might consider decreasing max_length manually, e.g. summarizer('...', max_length=123)\n"
          ]
        },
        {
          "output_type": "stream",
          "name": "stdout",
          "text": [
            "[---- 103----]\n",
            "no truncate : 245\n",
            "len tokens : 245 (213)\n"
          ]
        },
        {
          "output_type": "stream",
          "name": "stderr",
          "text": [
            "Your max_length is set to 350, but your input_length is only 243. Since this is a summarization task, where outputs shorter than the input are typically wanted, you might consider decreasing max_length manually, e.g. summarizer('...', max_length=121)\n"
          ]
        },
        {
          "output_type": "stream",
          "name": "stdout",
          "text": [
            "[---- 104----]\n",
            "no truncate : 241\n",
            "len tokens : 241 (209)\n"
          ]
        },
        {
          "output_type": "stream",
          "name": "stderr",
          "text": [
            "Your max_length is set to 350, but your input_length is only 320. Since this is a summarization task, where outputs shorter than the input are typically wanted, you might consider decreasing max_length manually, e.g. summarizer('...', max_length=160)\n"
          ]
        },
        {
          "output_type": "stream",
          "name": "stdout",
          "text": [
            "[---- 105----]\n",
            "no truncate : 318\n",
            "len tokens : 318 (276)\n"
          ]
        },
        {
          "output_type": "stream",
          "name": "stderr",
          "text": [
            "Your max_length is set to 350, but your input_length is only 337. Since this is a summarization task, where outputs shorter than the input are typically wanted, you might consider decreasing max_length manually, e.g. summarizer('...', max_length=168)\n"
          ]
        },
        {
          "output_type": "stream",
          "name": "stdout",
          "text": [
            "[---- 106----]\n",
            "no truncate : 335\n",
            "len tokens : 335 (256)\n"
          ]
        },
        {
          "output_type": "stream",
          "name": "stderr",
          "text": [
            "Your max_length is set to 350, but your input_length is only 327. Since this is a summarization task, where outputs shorter than the input are typically wanted, you might consider decreasing max_length manually, e.g. summarizer('...', max_length=163)\n"
          ]
        },
        {
          "output_type": "stream",
          "name": "stdout",
          "text": [
            "[---- 107----]\n",
            "no truncate : 325\n",
            "len tokens : 325 (254)\n"
          ]
        },
        {
          "output_type": "stream",
          "name": "stderr",
          "text": [
            "Your max_length is set to 350, but your input_length is only 345. Since this is a summarization task, where outputs shorter than the input are typically wanted, you might consider decreasing max_length manually, e.g. summarizer('...', max_length=172)\n"
          ]
        },
        {
          "output_type": "stream",
          "name": "stdout",
          "text": [
            "[---- 108----]\n",
            "no truncate : 343\n",
            "len tokens : 343 (262)\n",
            "[---- 109----]\n",
            "no truncate : 351\n",
            "len tokens : 351 (266)\n"
          ]
        },
        {
          "output_type": "stream",
          "name": "stderr",
          "text": [
            "Your max_length is set to 350, but your input_length is only 342. Since this is a summarization task, where outputs shorter than the input are typically wanted, you might consider decreasing max_length manually, e.g. summarizer('...', max_length=171)\n"
          ]
        },
        {
          "output_type": "stream",
          "name": "stdout",
          "text": [
            "[---- 110----]\n",
            "no truncate : 340\n",
            "len tokens : 340 (261)\n"
          ]
        },
        {
          "output_type": "stream",
          "name": "stderr",
          "text": [
            "Your max_length is set to 350, but your input_length is only 319. Since this is a summarization task, where outputs shorter than the input are typically wanted, you might consider decreasing max_length manually, e.g. summarizer('...', max_length=159)\n"
          ]
        },
        {
          "output_type": "stream",
          "name": "stdout",
          "text": [
            "[---- 111----]\n",
            "no truncate : 317\n",
            "len tokens : 317 (245)\n",
            "[---- 112----]\n",
            "no truncate : 533\n",
            "len tokens : 533 (478)\n"
          ]
        },
        {
          "output_type": "stream",
          "name": "stderr",
          "text": [
            "Your max_length is set to 350, but your input_length is only 28. Since this is a summarization task, where outputs shorter than the input are typically wanted, you might consider decreasing max_length manually, e.g. summarizer('...', max_length=14)\n"
          ]
        },
        {
          "output_type": "stream",
          "name": "stdout",
          "text": [
            "[---- 113----]\n",
            "no truncate : 26\n",
            "len tokens : 26 (20)\n",
            "[---- 114----]\n",
            "no truncate : 495\n",
            "len tokens : 495 (439)\n",
            "[---- 115----]\n",
            "no truncate : 447\n",
            "len tokens : 447 (401)\n"
          ]
        },
        {
          "output_type": "stream",
          "name": "stderr",
          "text": [
            "Your max_length is set to 350, but your input_length is only 219. Since this is a summarization task, where outputs shorter than the input are typically wanted, you might consider decreasing max_length manually, e.g. summarizer('...', max_length=109)\n"
          ]
        },
        {
          "output_type": "stream",
          "name": "stdout",
          "text": [
            "[---- 116----]\n",
            "no truncate : 217\n",
            "len tokens : 217 (199)\n",
            "[---- 117----]\n",
            "no truncate : 541\n",
            "len tokens : 541 (477)\n",
            "[---- 118----]\n",
            "no truncate : 545\n",
            "len tokens : 545 (492)\n"
          ]
        },
        {
          "output_type": "stream",
          "name": "stderr",
          "text": [
            "Your max_length is set to 350, but your input_length is only 257. Since this is a summarization task, where outputs shorter than the input are typically wanted, you might consider decreasing max_length manually, e.g. summarizer('...', max_length=128)\n"
          ]
        },
        {
          "output_type": "stream",
          "name": "stdout",
          "text": [
            "[---- 119----]\n",
            "no truncate : 255\n",
            "len tokens : 255 (227)\n",
            "[---- 120----]\n",
            "no truncate : 542\n",
            "len tokens : 542 (478)\n",
            "[---- 121----]\n",
            "no truncate : 365\n",
            "len tokens : 365 (326)\n"
          ]
        },
        {
          "output_type": "stream",
          "name": "stderr",
          "text": [
            "Your max_length is set to 350, but your input_length is only 15. Since this is a summarization task, where outputs shorter than the input are typically wanted, you might consider decreasing max_length manually, e.g. summarizer('...', max_length=7)\n"
          ]
        },
        {
          "output_type": "stream",
          "name": "stdout",
          "text": [
            "[---- 122----]\n",
            "no truncate : 13\n",
            "len tokens : 13 (13)\n",
            "[---- 123----]\n",
            "no truncate : 600\n",
            "len tokens : 600 (536)\n"
          ]
        },
        {
          "output_type": "stream",
          "name": "stderr",
          "text": [
            "Your max_length is set to 350, but your input_length is only 87. Since this is a summarization task, where outputs shorter than the input are typically wanted, you might consider decreasing max_length manually, e.g. summarizer('...', max_length=43)\n"
          ]
        },
        {
          "output_type": "stream",
          "name": "stdout",
          "text": [
            "[---- 124----]\n",
            "no truncate : 85\n",
            "len tokens : 85 (70)\n"
          ]
        },
        {
          "output_type": "stream",
          "name": "stderr",
          "text": [
            "Your max_length is set to 350, but your input_length is only 110. Since this is a summarization task, where outputs shorter than the input are typically wanted, you might consider decreasing max_length manually, e.g. summarizer('...', max_length=55)\n"
          ]
        },
        {
          "output_type": "stream",
          "name": "stdout",
          "text": [
            "[---- 125----]\n",
            "no truncate : 108\n",
            "len tokens : 108 (88)\n"
          ]
        },
        {
          "output_type": "stream",
          "name": "stderr",
          "text": [
            "Your max_length is set to 350, but your input_length is only 115. Since this is a summarization task, where outputs shorter than the input are typically wanted, you might consider decreasing max_length manually, e.g. summarizer('...', max_length=57)\n"
          ]
        },
        {
          "output_type": "stream",
          "name": "stdout",
          "text": [
            "[---- 126----]\n",
            "no truncate : 113\n",
            "len tokens : 113 (90)\n"
          ]
        },
        {
          "output_type": "stream",
          "name": "stderr",
          "text": [
            "Your max_length is set to 350, but your input_length is only 151. Since this is a summarization task, where outputs shorter than the input are typically wanted, you might consider decreasing max_length manually, e.g. summarizer('...', max_length=75)\n"
          ]
        },
        {
          "output_type": "stream",
          "name": "stdout",
          "text": [
            "[---- 127----]\n",
            "no truncate : 149\n",
            "len tokens : 149 (113)\n"
          ]
        },
        {
          "output_type": "stream",
          "name": "stderr",
          "text": [
            "Your max_length is set to 350, but your input_length is only 135. Since this is a summarization task, where outputs shorter than the input are typically wanted, you might consider decreasing max_length manually, e.g. summarizer('...', max_length=67)\n"
          ]
        },
        {
          "output_type": "stream",
          "name": "stdout",
          "text": [
            "[---- 128----]\n",
            "no truncate : 133\n",
            "len tokens : 133 (101)\n"
          ]
        },
        {
          "output_type": "stream",
          "name": "stderr",
          "text": [
            "Your max_length is set to 350, but your input_length is only 141. Since this is a summarization task, where outputs shorter than the input are typically wanted, you might consider decreasing max_length manually, e.g. summarizer('...', max_length=70)\n"
          ]
        },
        {
          "output_type": "stream",
          "name": "stdout",
          "text": [
            "[---- 129----]\n",
            "no truncate : 139\n",
            "len tokens : 139 (109)\n"
          ]
        },
        {
          "output_type": "stream",
          "name": "stderr",
          "text": [
            "Your max_length is set to 350, but your input_length is only 78. Since this is a summarization task, where outputs shorter than the input are typically wanted, you might consider decreasing max_length manually, e.g. summarizer('...', max_length=39)\n"
          ]
        },
        {
          "output_type": "stream",
          "name": "stdout",
          "text": [
            "[---- 130----]\n",
            "no truncate : 76\n",
            "len tokens : 76 (51)\n"
          ]
        },
        {
          "output_type": "stream",
          "name": "stderr",
          "text": [
            "Your max_length is set to 350, but your input_length is only 92. Since this is a summarization task, where outputs shorter than the input are typically wanted, you might consider decreasing max_length manually, e.g. summarizer('...', max_length=46)\n"
          ]
        },
        {
          "output_type": "stream",
          "name": "stdout",
          "text": [
            "[---- 131----]\n",
            "no truncate : 90\n",
            "len tokens : 90 (70)\n"
          ]
        },
        {
          "output_type": "stream",
          "name": "stderr",
          "text": [
            "Your max_length is set to 350, but your input_length is only 71. Since this is a summarization task, where outputs shorter than the input are typically wanted, you might consider decreasing max_length manually, e.g. summarizer('...', max_length=35)\n"
          ]
        },
        {
          "output_type": "stream",
          "name": "stdout",
          "text": [
            "[---- 132----]\n",
            "no truncate : 69\n",
            "len tokens : 69 (48)\n"
          ]
        },
        {
          "output_type": "stream",
          "name": "stderr",
          "text": [
            "Your max_length is set to 350, but your input_length is only 90. Since this is a summarization task, where outputs shorter than the input are typically wanted, you might consider decreasing max_length manually, e.g. summarizer('...', max_length=45)\n"
          ]
        },
        {
          "output_type": "stream",
          "name": "stdout",
          "text": [
            "[---- 133----]\n",
            "no truncate : 88\n",
            "len tokens : 88 (64)\n"
          ]
        },
        {
          "output_type": "stream",
          "name": "stderr",
          "text": [
            "Your max_length is set to 350, but your input_length is only 70. Since this is a summarization task, where outputs shorter than the input are typically wanted, you might consider decreasing max_length manually, e.g. summarizer('...', max_length=35)\n"
          ]
        },
        {
          "output_type": "stream",
          "name": "stdout",
          "text": [
            "[---- 134----]\n",
            "no truncate : 68\n",
            "len tokens : 68 (54)\n"
          ]
        },
        {
          "output_type": "stream",
          "name": "stderr",
          "text": [
            "Your max_length is set to 350, but your input_length is only 37. Since this is a summarization task, where outputs shorter than the input are typically wanted, you might consider decreasing max_length manually, e.g. summarizer('...', max_length=18)\n"
          ]
        },
        {
          "output_type": "stream",
          "name": "stdout",
          "text": [
            "[---- 135----]\n",
            "no truncate : 35\n",
            "len tokens : 35 (28)\n"
          ]
        },
        {
          "output_type": "stream",
          "name": "stderr",
          "text": [
            "Your max_length is set to 350, but your input_length is only 66. Since this is a summarization task, where outputs shorter than the input are typically wanted, you might consider decreasing max_length manually, e.g. summarizer('...', max_length=33)\n"
          ]
        },
        {
          "output_type": "stream",
          "name": "stdout",
          "text": [
            "[---- 136----]\n",
            "no truncate : 64\n",
            "len tokens : 64 (44)\n"
          ]
        },
        {
          "output_type": "stream",
          "name": "stderr",
          "text": [
            "Your max_length is set to 350, but your input_length is only 45. Since this is a summarization task, where outputs shorter than the input are typically wanted, you might consider decreasing max_length manually, e.g. summarizer('...', max_length=22)\n"
          ]
        },
        {
          "output_type": "stream",
          "name": "stdout",
          "text": [
            "[---- 137----]\n",
            "no truncate : 43\n",
            "len tokens : 43 (33)\n"
          ]
        },
        {
          "output_type": "stream",
          "name": "stderr",
          "text": [
            "Your max_length is set to 350, but your input_length is only 80. Since this is a summarization task, where outputs shorter than the input are typically wanted, you might consider decreasing max_length manually, e.g. summarizer('...', max_length=40)\n"
          ]
        },
        {
          "output_type": "stream",
          "name": "stdout",
          "text": [
            "[---- 138----]\n",
            "no truncate : 78\n",
            "len tokens : 78 (53)\n",
            "[---- 139----]\n",
            "no truncate : 479\n",
            "len tokens : 479 (393)\n",
            "[---- 140----]\n",
            "no truncate : 400\n",
            "len tokens : 400 (330)\n",
            "[---- 141----]\n",
            "no truncate : 457\n",
            "len tokens : 457 (380)\n",
            "[---- 142----]\n",
            "no truncate : 374\n",
            "len tokens : 374 (313)\n",
            "[---- 143----]\n",
            "no truncate : 457\n",
            "len tokens : 457 (382)\n"
          ]
        },
        {
          "output_type": "stream",
          "name": "stderr",
          "text": [
            "Your max_length is set to 350, but your input_length is only 300. Since this is a summarization task, where outputs shorter than the input are typically wanted, you might consider decreasing max_length manually, e.g. summarizer('...', max_length=150)\n"
          ]
        },
        {
          "output_type": "stream",
          "name": "stdout",
          "text": [
            "[---- 144----]\n",
            "no truncate : 298\n",
            "len tokens : 298 (250)\n"
          ]
        },
        {
          "output_type": "stream",
          "name": "stderr",
          "text": [
            "Your max_length is set to 350, but your input_length is only 193. Since this is a summarization task, where outputs shorter than the input are typically wanted, you might consider decreasing max_length manually, e.g. summarizer('...', max_length=96)\n"
          ]
        },
        {
          "output_type": "stream",
          "name": "stdout",
          "text": [
            "[---- 145----]\n",
            "no truncate : 191\n",
            "len tokens : 191 (140)\n"
          ]
        },
        {
          "output_type": "stream",
          "name": "stderr",
          "text": [
            "Your max_length is set to 350, but your input_length is only 69. Since this is a summarization task, where outputs shorter than the input are typically wanted, you might consider decreasing max_length manually, e.g. summarizer('...', max_length=34)\n"
          ]
        },
        {
          "output_type": "stream",
          "name": "stdout",
          "text": [
            "[---- 146----]\n",
            "no truncate : 67\n",
            "len tokens : 67 (50)\n"
          ]
        },
        {
          "output_type": "stream",
          "name": "stderr",
          "text": [
            "Your max_length is set to 350, but your input_length is only 85. Since this is a summarization task, where outputs shorter than the input are typically wanted, you might consider decreasing max_length manually, e.g. summarizer('...', max_length=42)\n"
          ]
        },
        {
          "output_type": "stream",
          "name": "stdout",
          "text": [
            "[---- 147----]\n",
            "no truncate : 83\n",
            "len tokens : 83 (56)\n"
          ]
        },
        {
          "output_type": "stream",
          "name": "stderr",
          "text": [
            "Your max_length is set to 350, but your input_length is only 203. Since this is a summarization task, where outputs shorter than the input are typically wanted, you might consider decreasing max_length manually, e.g. summarizer('...', max_length=101)\n"
          ]
        },
        {
          "output_type": "stream",
          "name": "stdout",
          "text": [
            "[---- 148----]\n",
            "no truncate : 201\n",
            "len tokens : 201 (149)\n"
          ]
        },
        {
          "output_type": "stream",
          "name": "stderr",
          "text": [
            "Your max_length is set to 350, but your input_length is only 190. Since this is a summarization task, where outputs shorter than the input are typically wanted, you might consider decreasing max_length manually, e.g. summarizer('...', max_length=95)\n"
          ]
        },
        {
          "output_type": "stream",
          "name": "stdout",
          "text": [
            "[---- 149----]\n",
            "no truncate : 188\n",
            "len tokens : 188 (140)\n"
          ]
        },
        {
          "output_type": "stream",
          "name": "stderr",
          "text": [
            "Your max_length is set to 350, but your input_length is only 75. Since this is a summarization task, where outputs shorter than the input are typically wanted, you might consider decreasing max_length manually, e.g. summarizer('...', max_length=37)\n"
          ]
        },
        {
          "output_type": "stream",
          "name": "stdout",
          "text": [
            "[---- 150----]\n",
            "no truncate : 73\n",
            "len tokens : 73 (53)\n"
          ]
        },
        {
          "output_type": "stream",
          "name": "stderr",
          "text": [
            "Your max_length is set to 350, but your input_length is only 225. Since this is a summarization task, where outputs shorter than the input are typically wanted, you might consider decreasing max_length manually, e.g. summarizer('...', max_length=112)\n"
          ]
        },
        {
          "output_type": "stream",
          "name": "stdout",
          "text": [
            "[---- 151----]\n",
            "no truncate : 223\n",
            "len tokens : 223 (169)\n"
          ]
        },
        {
          "output_type": "stream",
          "name": "stderr",
          "text": [
            "Your max_length is set to 350, but your input_length is only 158. Since this is a summarization task, where outputs shorter than the input are typically wanted, you might consider decreasing max_length manually, e.g. summarizer('...', max_length=79)\n"
          ]
        },
        {
          "output_type": "stream",
          "name": "stdout",
          "text": [
            "[---- 152----]\n",
            "no truncate : 156\n",
            "len tokens : 156 (119)\n"
          ]
        },
        {
          "output_type": "stream",
          "name": "stderr",
          "text": [
            "Your max_length is set to 350, but your input_length is only 118. Since this is a summarization task, where outputs shorter than the input are typically wanted, you might consider decreasing max_length manually, e.g. summarizer('...', max_length=59)\n"
          ]
        },
        {
          "output_type": "stream",
          "name": "stdout",
          "text": [
            "[---- 153----]\n",
            "no truncate : 116\n",
            "len tokens : 116 (88)\n"
          ]
        },
        {
          "output_type": "stream",
          "name": "stderr",
          "text": [
            "Your max_length is set to 350, but your input_length is only 225. Since this is a summarization task, where outputs shorter than the input are typically wanted, you might consider decreasing max_length manually, e.g. summarizer('...', max_length=112)\n"
          ]
        },
        {
          "output_type": "stream",
          "name": "stdout",
          "text": [
            "[---- 154----]\n",
            "no truncate : 223\n",
            "len tokens : 223 (169)\n"
          ]
        },
        {
          "output_type": "stream",
          "name": "stderr",
          "text": [
            "Your max_length is set to 350, but your input_length is only 254. Since this is a summarization task, where outputs shorter than the input are typically wanted, you might consider decreasing max_length manually, e.g. summarizer('...', max_length=127)\n"
          ]
        },
        {
          "output_type": "stream",
          "name": "stdout",
          "text": [
            "[---- 155----]\n",
            "no truncate : 252\n",
            "len tokens : 252 (194)\n"
          ]
        },
        {
          "output_type": "stream",
          "name": "stderr",
          "text": [
            "Your max_length is set to 350, but your input_length is only 209. Since this is a summarization task, where outputs shorter than the input are typically wanted, you might consider decreasing max_length manually, e.g. summarizer('...', max_length=104)\n"
          ]
        },
        {
          "output_type": "stream",
          "name": "stdout",
          "text": [
            "[---- 156----]\n",
            "no truncate : 207\n",
            "len tokens : 207 (161)\n",
            "[---- 157----]\n",
            "no truncate : 514\n",
            "len tokens : 514 (462)\n",
            "[---- 158----]\n",
            "no truncate : 500\n",
            "len tokens : 500 (452)\n",
            "[---- 159----]\n",
            "no truncate : 548\n",
            "len tokens : 548 (483)\n",
            "[---- 160----]\n",
            "no truncate : 559\n",
            "len tokens : 559 (487)\n"
          ]
        },
        {
          "output_type": "stream",
          "name": "stderr",
          "text": [
            "Your max_length is set to 350, but your input_length is only 223. Since this is a summarization task, where outputs shorter than the input are typically wanted, you might consider decreasing max_length manually, e.g. summarizer('...', max_length=111)\n"
          ]
        },
        {
          "output_type": "stream",
          "name": "stdout",
          "text": [
            "[---- 161----]\n",
            "no truncate : 221\n",
            "len tokens : 221 (189)\n",
            "[---- 162----]\n",
            "no truncate : 435\n",
            "len tokens : 435 (402)\n"
          ]
        },
        {
          "output_type": "stream",
          "name": "stderr",
          "text": [
            "Your max_length is set to 350, but your input_length is only 14. Since this is a summarization task, where outputs shorter than the input are typically wanted, you might consider decreasing max_length manually, e.g. summarizer('...', max_length=7)\n"
          ]
        },
        {
          "output_type": "stream",
          "name": "stdout",
          "text": [
            "[---- 163----]\n",
            "no truncate : 12\n",
            "len tokens : 12 (12)\n",
            "[---- 164----]\n",
            "no truncate : 411\n",
            "len tokens : 411 (384)\n",
            "[---- 165----]\n",
            "no truncate : 402\n",
            "len tokens : 402 (380)\n"
          ]
        },
        {
          "output_type": "stream",
          "name": "stderr",
          "text": [
            "Your max_length is set to 350, but your input_length is only 65. Since this is a summarization task, where outputs shorter than the input are typically wanted, you might consider decreasing max_length manually, e.g. summarizer('...', max_length=32)\n"
          ]
        },
        {
          "output_type": "stream",
          "name": "stdout",
          "text": [
            "[---- 166----]\n",
            "no truncate : 63\n",
            "len tokens : 63 (53)\n"
          ]
        },
        {
          "output_type": "stream",
          "name": "stderr",
          "text": [
            "Your max_length is set to 350, but your input_length is only 184. Since this is a summarization task, where outputs shorter than the input are typically wanted, you might consider decreasing max_length manually, e.g. summarizer('...', max_length=92)\n"
          ]
        },
        {
          "output_type": "stream",
          "name": "stdout",
          "text": [
            "[---- 167----]\n",
            "no truncate : 182\n",
            "len tokens : 182 (164)\n",
            "[---- 168----]\n",
            "no truncate : 400\n",
            "len tokens : 400 (379)\n"
          ]
        },
        {
          "output_type": "stream",
          "name": "stderr",
          "text": [
            "Your max_length is set to 350, but your input_length is only 179. Since this is a summarization task, where outputs shorter than the input are typically wanted, you might consider decreasing max_length manually, e.g. summarizer('...', max_length=89)\n"
          ]
        },
        {
          "output_type": "stream",
          "name": "stdout",
          "text": [
            "[---- 169----]\n",
            "no truncate : 177\n",
            "len tokens : 177 (159)\n"
          ]
        },
        {
          "output_type": "stream",
          "name": "stderr",
          "text": [
            "Your max_length is set to 350, but your input_length is only 18. Since this is a summarization task, where outputs shorter than the input are typically wanted, you might consider decreasing max_length manually, e.g. summarizer('...', max_length=9)\n"
          ]
        },
        {
          "output_type": "stream",
          "name": "stdout",
          "text": [
            "[---- 170----]\n",
            "no truncate : 16\n",
            "len tokens : 16 (16)\n",
            "[---- 171----]\n",
            "no truncate : 538\n",
            "len tokens : 538 (500)\n"
          ]
        },
        {
          "output_type": "stream",
          "name": "stderr",
          "text": [
            "Your max_length is set to 350, but your input_length is only 23. Since this is a summarization task, where outputs shorter than the input are typically wanted, you might consider decreasing max_length manually, e.g. summarizer('...', max_length=11)\n"
          ]
        },
        {
          "output_type": "stream",
          "name": "stdout",
          "text": [
            "[---- 172----]\n",
            "no truncate : 21\n",
            "len tokens : 21 (20)\n"
          ]
        },
        {
          "output_type": "stream",
          "name": "stderr",
          "text": [
            "Your max_length is set to 350, but your input_length is only 182. Since this is a summarization task, where outputs shorter than the input are typically wanted, you might consider decreasing max_length manually, e.g. summarizer('...', max_length=91)\n"
          ]
        },
        {
          "output_type": "stream",
          "name": "stdout",
          "text": [
            "[---- 173----]\n",
            "no truncate : 180\n",
            "len tokens : 180 (134)\n"
          ]
        },
        {
          "output_type": "stream",
          "name": "stderr",
          "text": [
            "Your max_length is set to 350, but your input_length is only 157. Since this is a summarization task, where outputs shorter than the input are typically wanted, you might consider decreasing max_length manually, e.g. summarizer('...', max_length=78)\n"
          ]
        },
        {
          "output_type": "stream",
          "name": "stdout",
          "text": [
            "[---- 174----]\n",
            "no truncate : 155\n",
            "len tokens : 155 (119)\n"
          ]
        },
        {
          "output_type": "stream",
          "name": "stderr",
          "text": [
            "Your max_length is set to 350, but your input_length is only 81. Since this is a summarization task, where outputs shorter than the input are typically wanted, you might consider decreasing max_length manually, e.g. summarizer('...', max_length=40)\n"
          ]
        },
        {
          "output_type": "stream",
          "name": "stdout",
          "text": [
            "[---- 175----]\n",
            "no truncate : 79\n",
            "len tokens : 79 (56)\n"
          ]
        },
        {
          "output_type": "stream",
          "name": "stderr",
          "text": [
            "Your max_length is set to 350, but your input_length is only 91. Since this is a summarization task, where outputs shorter than the input are typically wanted, you might consider decreasing max_length manually, e.g. summarizer('...', max_length=45)\n"
          ]
        },
        {
          "output_type": "stream",
          "name": "stdout",
          "text": [
            "[---- 176----]\n",
            "no truncate : 89\n",
            "len tokens : 89 (64)\n"
          ]
        },
        {
          "output_type": "stream",
          "name": "stderr",
          "text": [
            "Your max_length is set to 350, but your input_length is only 187. Since this is a summarization task, where outputs shorter than the input are typically wanted, you might consider decreasing max_length manually, e.g. summarizer('...', max_length=93)\n"
          ]
        },
        {
          "output_type": "stream",
          "name": "stdout",
          "text": [
            "[---- 177----]\n",
            "no truncate : 185\n",
            "len tokens : 185 (145)\n"
          ]
        },
        {
          "output_type": "stream",
          "name": "stderr",
          "text": [
            "Your max_length is set to 350, but your input_length is only 96. Since this is a summarization task, where outputs shorter than the input are typically wanted, you might consider decreasing max_length manually, e.g. summarizer('...', max_length=48)\n"
          ]
        },
        {
          "output_type": "stream",
          "name": "stdout",
          "text": [
            "[---- 178----]\n",
            "no truncate : 94\n",
            "len tokens : 94 (69)\n"
          ]
        },
        {
          "output_type": "stream",
          "name": "stderr",
          "text": [
            "Your max_length is set to 350, but your input_length is only 209. Since this is a summarization task, where outputs shorter than the input are typically wanted, you might consider decreasing max_length manually, e.g. summarizer('...', max_length=104)\n"
          ]
        },
        {
          "output_type": "stream",
          "name": "stdout",
          "text": [
            "[---- 179----]\n",
            "no truncate : 207\n",
            "len tokens : 207 (158)\n"
          ]
        },
        {
          "output_type": "stream",
          "name": "stderr",
          "text": [
            "Your max_length is set to 350, but your input_length is only 196. Since this is a summarization task, where outputs shorter than the input are typically wanted, you might consider decreasing max_length manually, e.g. summarizer('...', max_length=98)\n"
          ]
        },
        {
          "output_type": "stream",
          "name": "stdout",
          "text": [
            "[---- 180----]\n",
            "no truncate : 194\n",
            "len tokens : 194 (151)\n"
          ]
        },
        {
          "output_type": "stream",
          "name": "stderr",
          "text": [
            "Your max_length is set to 350, but your input_length is only 200. Since this is a summarization task, where outputs shorter than the input are typically wanted, you might consider decreasing max_length manually, e.g. summarizer('...', max_length=100)\n"
          ]
        },
        {
          "output_type": "stream",
          "name": "stdout",
          "text": [
            "[---- 181----]\n",
            "no truncate : 198\n",
            "len tokens : 198 (155)\n"
          ]
        },
        {
          "output_type": "stream",
          "name": "stderr",
          "text": [
            "Your max_length is set to 350, but your input_length is only 238. Since this is a summarization task, where outputs shorter than the input are typically wanted, you might consider decreasing max_length manually, e.g. summarizer('...', max_length=119)\n"
          ]
        },
        {
          "output_type": "stream",
          "name": "stdout",
          "text": [
            "[---- 182----]\n",
            "no truncate : 236\n",
            "len tokens : 236 (173)\n"
          ]
        },
        {
          "output_type": "stream",
          "name": "stderr",
          "text": [
            "Your max_length is set to 350, but your input_length is only 269. Since this is a summarization task, where outputs shorter than the input are typically wanted, you might consider decreasing max_length manually, e.g. summarizer('...', max_length=134)\n"
          ]
        },
        {
          "output_type": "stream",
          "name": "stdout",
          "text": [
            "[---- 183----]\n",
            "no truncate : 267\n",
            "len tokens : 267 (202)\n"
          ]
        },
        {
          "output_type": "stream",
          "name": "stderr",
          "text": [
            "Your max_length is set to 350, but your input_length is only 212. Since this is a summarization task, where outputs shorter than the input are typically wanted, you might consider decreasing max_length manually, e.g. summarizer('...', max_length=106)\n"
          ]
        },
        {
          "output_type": "stream",
          "name": "stdout",
          "text": [
            "[---- 184----]\n",
            "no truncate : 210\n",
            "len tokens : 210 (159)\n"
          ]
        },
        {
          "output_type": "stream",
          "name": "stderr",
          "text": [
            "Your max_length is set to 350, but your input_length is only 282. Since this is a summarization task, where outputs shorter than the input are typically wanted, you might consider decreasing max_length manually, e.g. summarizer('...', max_length=141)\n"
          ]
        },
        {
          "output_type": "stream",
          "name": "stdout",
          "text": [
            "[---- 185----]\n",
            "no truncate : 280\n",
            "len tokens : 280 (246)\n"
          ]
        },
        {
          "output_type": "stream",
          "name": "stderr",
          "text": [
            "Your max_length is set to 350, but your input_length is only 284. Since this is a summarization task, where outputs shorter than the input are typically wanted, you might consider decreasing max_length manually, e.g. summarizer('...', max_length=142)\n"
          ]
        },
        {
          "output_type": "stream",
          "name": "stdout",
          "text": [
            "[---- 186----]\n",
            "no truncate : 282\n",
            "len tokens : 282 (251)\n"
          ]
        },
        {
          "output_type": "stream",
          "name": "stderr",
          "text": [
            "Your max_length is set to 350, but your input_length is only 111. Since this is a summarization task, where outputs shorter than the input are typically wanted, you might consider decreasing max_length manually, e.g. summarizer('...', max_length=55)\n"
          ]
        },
        {
          "output_type": "stream",
          "name": "stdout",
          "text": [
            "[---- 187----]\n",
            "no truncate : 109\n",
            "len tokens : 109 (98)\n"
          ]
        },
        {
          "output_type": "stream",
          "name": "stderr",
          "text": [
            "Your max_length is set to 350, but your input_length is only 93. Since this is a summarization task, where outputs shorter than the input are typically wanted, you might consider decreasing max_length manually, e.g. summarizer('...', max_length=46)\n"
          ]
        },
        {
          "output_type": "stream",
          "name": "stdout",
          "text": [
            "[---- 188----]\n",
            "no truncate : 91\n",
            "len tokens : 91 (72)\n"
          ]
        },
        {
          "output_type": "stream",
          "name": "stderr",
          "text": [
            "Your max_length is set to 350, but your input_length is only 296. Since this is a summarization task, where outputs shorter than the input are typically wanted, you might consider decreasing max_length manually, e.g. summarizer('...', max_length=148)\n"
          ]
        },
        {
          "output_type": "stream",
          "name": "stdout",
          "text": [
            "[---- 189----]\n",
            "no truncate : 294\n",
            "len tokens : 294 (260)\n"
          ]
        },
        {
          "output_type": "stream",
          "name": "stderr",
          "text": [
            "Your max_length is set to 350, but your input_length is only 172. Since this is a summarization task, where outputs shorter than the input are typically wanted, you might consider decreasing max_length manually, e.g. summarizer('...', max_length=86)\n"
          ]
        },
        {
          "output_type": "stream",
          "name": "stdout",
          "text": [
            "[---- 190----]\n",
            "no truncate : 170\n",
            "len tokens : 170 (146)\n"
          ]
        },
        {
          "output_type": "stream",
          "name": "stderr",
          "text": [
            "Your max_length is set to 350, but your input_length is only 266. Since this is a summarization task, where outputs shorter than the input are typically wanted, you might consider decreasing max_length manually, e.g. summarizer('...', max_length=133)\n"
          ]
        },
        {
          "output_type": "stream",
          "name": "stdout",
          "text": [
            "[---- 191----]\n",
            "no truncate : 264\n",
            "len tokens : 264 (230)\n"
          ]
        },
        {
          "output_type": "stream",
          "name": "stderr",
          "text": [
            "Your max_length is set to 350, but your input_length is only 215. Since this is a summarization task, where outputs shorter than the input are typically wanted, you might consider decreasing max_length manually, e.g. summarizer('...', max_length=107)\n"
          ]
        },
        {
          "output_type": "stream",
          "name": "stdout",
          "text": [
            "[---- 192----]\n",
            "no truncate : 213\n",
            "len tokens : 213 (192)\n"
          ]
        },
        {
          "output_type": "stream",
          "name": "stderr",
          "text": [
            "Your max_length is set to 350, but your input_length is only 244. Since this is a summarization task, where outputs shorter than the input are typically wanted, you might consider decreasing max_length manually, e.g. summarizer('...', max_length=122)\n"
          ]
        },
        {
          "output_type": "stream",
          "name": "stdout",
          "text": [
            "[---- 193----]\n",
            "no truncate : 242\n",
            "len tokens : 242 (215)\n"
          ]
        },
        {
          "output_type": "stream",
          "name": "stderr",
          "text": [
            "Your max_length is set to 350, but your input_length is only 279. Since this is a summarization task, where outputs shorter than the input are typically wanted, you might consider decreasing max_length manually, e.g. summarizer('...', max_length=139)\n"
          ]
        },
        {
          "output_type": "stream",
          "name": "stdout",
          "text": [
            "[---- 194----]\n",
            "no truncate : 277\n",
            "len tokens : 277 (243)\n"
          ]
        },
        {
          "output_type": "stream",
          "name": "stderr",
          "text": [
            "Your max_length is set to 350, but your input_length is only 251. Since this is a summarization task, where outputs shorter than the input are typically wanted, you might consider decreasing max_length manually, e.g. summarizer('...', max_length=125)\n"
          ]
        },
        {
          "output_type": "stream",
          "name": "stdout",
          "text": [
            "[---- 195----]\n",
            "no truncate : 249\n",
            "len tokens : 249 (222)\n",
            "[---- 196----]\n",
            "no truncate : 354\n",
            "len tokens : 354 (314)\n",
            "[---- 197----]\n",
            "no truncate : 384\n",
            "len tokens : 384 (268)\n"
          ]
        },
        {
          "output_type": "stream",
          "name": "stderr",
          "text": [
            "Your max_length is set to 350, but your input_length is only 276. Since this is a summarization task, where outputs shorter than the input are typically wanted, you might consider decreasing max_length manually, e.g. summarizer('...', max_length=138)\n"
          ]
        },
        {
          "output_type": "stream",
          "name": "stdout",
          "text": [
            "[---- 198----]\n",
            "no truncate : 274\n",
            "len tokens : 274 (190)\n"
          ]
        },
        {
          "output_type": "stream",
          "name": "stderr",
          "text": [
            "Your max_length is set to 350, but your input_length is only 282. Since this is a summarization task, where outputs shorter than the input are typically wanted, you might consider decreasing max_length manually, e.g. summarizer('...', max_length=141)\n"
          ]
        },
        {
          "output_type": "stream",
          "name": "stdout",
          "text": [
            "[---- 199----]\n",
            "no truncate : 280\n",
            "len tokens : 280 (196)\n"
          ]
        },
        {
          "output_type": "stream",
          "name": "stderr",
          "text": [
            "Your max_length is set to 350, but your input_length is only 276. Since this is a summarization task, where outputs shorter than the input are typically wanted, you might consider decreasing max_length manually, e.g. summarizer('...', max_length=138)\n"
          ]
        },
        {
          "output_type": "stream",
          "name": "stdout",
          "text": [
            "[---- 200----]\n",
            "no truncate : 274\n",
            "len tokens : 274 (190)\n"
          ]
        },
        {
          "output_type": "stream",
          "name": "stderr",
          "text": [
            "Your max_length is set to 350, but your input_length is only 275. Since this is a summarization task, where outputs shorter than the input are typically wanted, you might consider decreasing max_length manually, e.g. summarizer('...', max_length=137)\n"
          ]
        },
        {
          "output_type": "stream",
          "name": "stdout",
          "text": [
            "[---- 201----]\n",
            "no truncate : 273\n",
            "len tokens : 273 (191)\n"
          ]
        },
        {
          "output_type": "stream",
          "name": "stderr",
          "text": [
            "Your max_length is set to 350, but your input_length is only 244. Since this is a summarization task, where outputs shorter than the input are typically wanted, you might consider decreasing max_length manually, e.g. summarizer('...', max_length=122)\n"
          ]
        },
        {
          "output_type": "stream",
          "name": "stdout",
          "text": [
            "[---- 202----]\n",
            "no truncate : 242\n",
            "len tokens : 242 (174)\n"
          ]
        },
        {
          "output_type": "stream",
          "name": "stderr",
          "text": [
            "Your max_length is set to 350, but your input_length is only 241. Since this is a summarization task, where outputs shorter than the input are typically wanted, you might consider decreasing max_length manually, e.g. summarizer('...', max_length=120)\n"
          ]
        },
        {
          "output_type": "stream",
          "name": "stdout",
          "text": [
            "[---- 203----]\n",
            "no truncate : 239\n",
            "len tokens : 239 (168)\n"
          ]
        },
        {
          "output_type": "stream",
          "name": "stderr",
          "text": [
            "Your max_length is set to 350, but your input_length is only 193. Since this is a summarization task, where outputs shorter than the input are typically wanted, you might consider decreasing max_length manually, e.g. summarizer('...', max_length=96)\n"
          ]
        },
        {
          "output_type": "stream",
          "name": "stdout",
          "text": [
            "[---- 204----]\n",
            "no truncate : 191\n",
            "len tokens : 191 (136)\n"
          ]
        },
        {
          "output_type": "stream",
          "name": "stderr",
          "text": [
            "Your max_length is set to 350, but your input_length is only 205. Since this is a summarization task, where outputs shorter than the input are typically wanted, you might consider decreasing max_length manually, e.g. summarizer('...', max_length=102)\n"
          ]
        },
        {
          "output_type": "stream",
          "name": "stdout",
          "text": [
            "[---- 205----]\n",
            "no truncate : 203\n",
            "len tokens : 203 (150)\n"
          ]
        },
        {
          "output_type": "stream",
          "name": "stderr",
          "text": [
            "Your max_length is set to 350, but your input_length is only 240. Since this is a summarization task, where outputs shorter than the input are typically wanted, you might consider decreasing max_length manually, e.g. summarizer('...', max_length=120)\n"
          ]
        },
        {
          "output_type": "stream",
          "name": "stdout",
          "text": [
            "[---- 206----]\n",
            "no truncate : 238\n",
            "len tokens : 238 (170)\n"
          ]
        },
        {
          "output_type": "stream",
          "name": "stderr",
          "text": [
            "Your max_length is set to 350, but your input_length is only 199. Since this is a summarization task, where outputs shorter than the input are typically wanted, you might consider decreasing max_length manually, e.g. summarizer('...', max_length=99)\n"
          ]
        },
        {
          "output_type": "stream",
          "name": "stdout",
          "text": [
            "[---- 207----]\n",
            "no truncate : 197\n",
            "len tokens : 197 (142)\n"
          ]
        },
        {
          "output_type": "stream",
          "name": "stderr",
          "text": [
            "Your max_length is set to 350, but your input_length is only 106. Since this is a summarization task, where outputs shorter than the input are typically wanted, you might consider decreasing max_length manually, e.g. summarizer('...', max_length=53)\n"
          ]
        },
        {
          "output_type": "stream",
          "name": "stdout",
          "text": [
            "[---- 208----]\n",
            "no truncate : 104\n",
            "len tokens : 104 (76)\n"
          ]
        },
        {
          "output_type": "stream",
          "name": "stderr",
          "text": [
            "Your max_length is set to 350, but your input_length is only 106. Since this is a summarization task, where outputs shorter than the input are typically wanted, you might consider decreasing max_length manually, e.g. summarizer('...', max_length=53)\n"
          ]
        },
        {
          "output_type": "stream",
          "name": "stdout",
          "text": [
            "[---- 209----]\n",
            "no truncate : 104\n",
            "len tokens : 104 (76)\n"
          ]
        },
        {
          "output_type": "stream",
          "name": "stderr",
          "text": [
            "Your max_length is set to 350, but your input_length is only 123. Since this is a summarization task, where outputs shorter than the input are typically wanted, you might consider decreasing max_length manually, e.g. summarizer('...', max_length=61)\n"
          ]
        },
        {
          "output_type": "stream",
          "name": "stdout",
          "text": [
            "[---- 210----]\n",
            "no truncate : 121\n",
            "len tokens : 121 (88)\n"
          ]
        },
        {
          "output_type": "stream",
          "name": "stderr",
          "text": [
            "Your max_length is set to 350, but your input_length is only 99. Since this is a summarization task, where outputs shorter than the input are typically wanted, you might consider decreasing max_length manually, e.g. summarizer('...', max_length=49)\n"
          ]
        },
        {
          "output_type": "stream",
          "name": "stdout",
          "text": [
            "[---- 211----]\n",
            "no truncate : 97\n",
            "len tokens : 97 (76)\n"
          ]
        },
        {
          "output_type": "stream",
          "name": "stderr",
          "text": [
            "Your max_length is set to 350, but your input_length is only 88. Since this is a summarization task, where outputs shorter than the input are typically wanted, you might consider decreasing max_length manually, e.g. summarizer('...', max_length=44)\n"
          ]
        },
        {
          "output_type": "stream",
          "name": "stdout",
          "text": [
            "[---- 212----]\n",
            "no truncate : 86\n",
            "len tokens : 86 (65)\n"
          ]
        },
        {
          "output_type": "stream",
          "name": "stderr",
          "text": [
            "Your max_length is set to 350, but your input_length is only 85. Since this is a summarization task, where outputs shorter than the input are typically wanted, you might consider decreasing max_length manually, e.g. summarizer('...', max_length=42)\n"
          ]
        },
        {
          "output_type": "stream",
          "name": "stdout",
          "text": [
            "[---- 213----]\n",
            "no truncate : 83\n",
            "len tokens : 83 (62)\n"
          ]
        },
        {
          "output_type": "stream",
          "name": "stderr",
          "text": [
            "Your max_length is set to 350, but your input_length is only 111. Since this is a summarization task, where outputs shorter than the input are typically wanted, you might consider decreasing max_length manually, e.g. summarizer('...', max_length=55)\n"
          ]
        },
        {
          "output_type": "stream",
          "name": "stdout",
          "text": [
            "[---- 214----]\n",
            "no truncate : 109\n",
            "len tokens : 109 (75)\n"
          ]
        },
        {
          "output_type": "stream",
          "name": "stderr",
          "text": [
            "Your max_length is set to 350, but your input_length is only 100. Since this is a summarization task, where outputs shorter than the input are typically wanted, you might consider decreasing max_length manually, e.g. summarizer('...', max_length=50)\n"
          ]
        },
        {
          "output_type": "stream",
          "name": "stdout",
          "text": [
            "[---- 215----]\n",
            "no truncate : 98\n",
            "len tokens : 98 (72)\n"
          ]
        },
        {
          "output_type": "stream",
          "name": "stderr",
          "text": [
            "Your max_length is set to 350, but your input_length is only 107. Since this is a summarization task, where outputs shorter than the input are typically wanted, you might consider decreasing max_length manually, e.g. summarizer('...', max_length=53)\n"
          ]
        },
        {
          "output_type": "stream",
          "name": "stdout",
          "text": [
            "[---- 216----]\n",
            "no truncate : 105\n",
            "len tokens : 105 (75)\n"
          ]
        },
        {
          "output_type": "stream",
          "name": "stderr",
          "text": [
            "Your max_length is set to 350, but your input_length is only 98. Since this is a summarization task, where outputs shorter than the input are typically wanted, you might consider decreasing max_length manually, e.g. summarizer('...', max_length=49)\n"
          ]
        },
        {
          "output_type": "stream",
          "name": "stdout",
          "text": [
            "[---- 217----]\n",
            "no truncate : 96\n",
            "len tokens : 96 (70)\n"
          ]
        },
        {
          "output_type": "stream",
          "name": "stderr",
          "text": [
            "Your max_length is set to 350, but your input_length is only 122. Since this is a summarization task, where outputs shorter than the input are typically wanted, you might consider decreasing max_length manually, e.g. summarizer('...', max_length=61)\n"
          ]
        },
        {
          "output_type": "stream",
          "name": "stdout",
          "text": [
            "[---- 218----]\n",
            "no truncate : 120\n",
            "len tokens : 120 (86)\n"
          ]
        },
        {
          "output_type": "stream",
          "name": "stderr",
          "text": [
            "Your max_length is set to 350, but your input_length is only 130. Since this is a summarization task, where outputs shorter than the input are typically wanted, you might consider decreasing max_length manually, e.g. summarizer('...', max_length=65)\n"
          ]
        },
        {
          "output_type": "stream",
          "name": "stdout",
          "text": [
            "[---- 219----]\n",
            "no truncate : 128\n",
            "len tokens : 128 (93)\n"
          ]
        },
        {
          "output_type": "stream",
          "name": "stderr",
          "text": [
            "Your max_length is set to 350, but your input_length is only 98. Since this is a summarization task, where outputs shorter than the input are typically wanted, you might consider decreasing max_length manually, e.g. summarizer('...', max_length=49)\n"
          ]
        },
        {
          "output_type": "stream",
          "name": "stdout",
          "text": [
            "[---- 220----]\n",
            "no truncate : 96\n",
            "len tokens : 96 (67)\n"
          ]
        },
        {
          "output_type": "stream",
          "name": "stderr",
          "text": [
            "Your max_length is set to 350, but your input_length is only 94. Since this is a summarization task, where outputs shorter than the input are typically wanted, you might consider decreasing max_length manually, e.g. summarizer('...', max_length=47)\n"
          ]
        },
        {
          "output_type": "stream",
          "name": "stdout",
          "text": [
            "[---- 221----]\n",
            "no truncate : 92\n",
            "len tokens : 92 (69)\n"
          ]
        },
        {
          "output_type": "stream",
          "name": "stderr",
          "text": [
            "Your max_length is set to 350, but your input_length is only 108. Since this is a summarization task, where outputs shorter than the input are typically wanted, you might consider decreasing max_length manually, e.g. summarizer('...', max_length=54)\n"
          ]
        },
        {
          "output_type": "stream",
          "name": "stdout",
          "text": [
            "[---- 222----]\n",
            "no truncate : 106\n",
            "len tokens : 106 (77)\n"
          ]
        },
        {
          "output_type": "stream",
          "name": "stderr",
          "text": [
            "Your max_length is set to 350, but your input_length is only 91. Since this is a summarization task, where outputs shorter than the input are typically wanted, you might consider decreasing max_length manually, e.g. summarizer('...', max_length=45)\n"
          ]
        },
        {
          "output_type": "stream",
          "name": "stdout",
          "text": [
            "[---- 223----]\n",
            "no truncate : 89\n",
            "len tokens : 89 (62)\n"
          ]
        },
        {
          "output_type": "stream",
          "name": "stderr",
          "text": [
            "Your max_length is set to 350, but your input_length is only 73. Since this is a summarization task, where outputs shorter than the input are typically wanted, you might consider decreasing max_length manually, e.g. summarizer('...', max_length=36)\n"
          ]
        },
        {
          "output_type": "stream",
          "name": "stdout",
          "text": [
            "[---- 224----]\n",
            "no truncate : 71\n",
            "len tokens : 71 (56)\n"
          ]
        },
        {
          "output_type": "stream",
          "name": "stderr",
          "text": [
            "Your max_length is set to 350, but your input_length is only 78. Since this is a summarization task, where outputs shorter than the input are typically wanted, you might consider decreasing max_length manually, e.g. summarizer('...', max_length=39)\n"
          ]
        },
        {
          "output_type": "stream",
          "name": "stdout",
          "text": [
            "[---- 225----]\n",
            "no truncate : 76\n",
            "len tokens : 76 (58)\n"
          ]
        },
        {
          "output_type": "stream",
          "name": "stderr",
          "text": [
            "Your max_length is set to 350, but your input_length is only 129. Since this is a summarization task, where outputs shorter than the input are typically wanted, you might consider decreasing max_length manually, e.g. summarizer('...', max_length=64)\n"
          ]
        },
        {
          "output_type": "stream",
          "name": "stdout",
          "text": [
            "[---- 226----]\n",
            "no truncate : 127\n",
            "len tokens : 127 (81)\n"
          ]
        },
        {
          "output_type": "stream",
          "name": "stderr",
          "text": [
            "Your max_length is set to 350, but your input_length is only 110. Since this is a summarization task, where outputs shorter than the input are typically wanted, you might consider decreasing max_length manually, e.g. summarizer('...', max_length=55)\n"
          ]
        },
        {
          "output_type": "stream",
          "name": "stdout",
          "text": [
            "[---- 227----]\n",
            "no truncate : 108\n",
            "len tokens : 108 (70)\n"
          ]
        },
        {
          "output_type": "stream",
          "name": "stderr",
          "text": [
            "Your max_length is set to 350, but your input_length is only 79. Since this is a summarization task, where outputs shorter than the input are typically wanted, you might consider decreasing max_length manually, e.g. summarizer('...', max_length=39)\n"
          ]
        },
        {
          "output_type": "stream",
          "name": "stdout",
          "text": [
            "[---- 228----]\n",
            "no truncate : 77\n",
            "len tokens : 77 (51)\n"
          ]
        },
        {
          "output_type": "stream",
          "name": "stderr",
          "text": [
            "Your max_length is set to 350, but your input_length is only 129. Since this is a summarization task, where outputs shorter than the input are typically wanted, you might consider decreasing max_length manually, e.g. summarizer('...', max_length=64)\n"
          ]
        },
        {
          "output_type": "stream",
          "name": "stdout",
          "text": [
            "[---- 229----]\n",
            "no truncate : 127\n",
            "len tokens : 127 (83)\n"
          ]
        },
        {
          "output_type": "stream",
          "name": "stderr",
          "text": [
            "Your max_length is set to 350, but your input_length is only 70. Since this is a summarization task, where outputs shorter than the input are typically wanted, you might consider decreasing max_length manually, e.g. summarizer('...', max_length=35)\n"
          ]
        },
        {
          "output_type": "stream",
          "name": "stdout",
          "text": [
            "[---- 230----]\n",
            "no truncate : 68\n",
            "len tokens : 68 (43)\n"
          ]
        },
        {
          "output_type": "stream",
          "name": "stderr",
          "text": [
            "Your max_length is set to 350, but your input_length is only 106. Since this is a summarization task, where outputs shorter than the input are typically wanted, you might consider decreasing max_length manually, e.g. summarizer('...', max_length=53)\n"
          ]
        },
        {
          "output_type": "stream",
          "name": "stdout",
          "text": [
            "[---- 231----]\n",
            "no truncate : 104\n",
            "len tokens : 104 (68)\n"
          ]
        },
        {
          "output_type": "stream",
          "name": "stderr",
          "text": [
            "Your max_length is set to 350, but your input_length is only 301. Since this is a summarization task, where outputs shorter than the input are typically wanted, you might consider decreasing max_length manually, e.g. summarizer('...', max_length=150)\n"
          ]
        },
        {
          "output_type": "stream",
          "name": "stdout",
          "text": [
            "[---- 232----]\n",
            "no truncate : 299\n",
            "len tokens : 299 (248)\n",
            "[---- 233----]\n",
            "no truncate : 350\n",
            "len tokens : 350 (290)\n",
            "[---- 234----]\n",
            "no truncate : 354\n",
            "len tokens : 354 (291)\n"
          ]
        },
        {
          "output_type": "stream",
          "name": "stderr",
          "text": [
            "Your max_length is set to 350, but your input_length is only 348. Since this is a summarization task, where outputs shorter than the input are typically wanted, you might consider decreasing max_length manually, e.g. summarizer('...', max_length=174)\n"
          ]
        },
        {
          "output_type": "stream",
          "name": "stdout",
          "text": [
            "[---- 235----]\n",
            "no truncate : 346\n",
            "len tokens : 346 (286)\n"
          ]
        },
        {
          "output_type": "stream",
          "name": "stderr",
          "text": [
            "Your max_length is set to 350, but your input_length is only 172. Since this is a summarization task, where outputs shorter than the input are typically wanted, you might consider decreasing max_length manually, e.g. summarizer('...', max_length=86)\n"
          ]
        },
        {
          "output_type": "stream",
          "name": "stdout",
          "text": [
            "[---- 236----]\n",
            "no truncate : 170\n",
            "len tokens : 170 (136)\n",
            "[---- 237----]\n",
            "no truncate : 450\n",
            "len tokens : 450 (364)\n"
          ]
        },
        {
          "output_type": "stream",
          "name": "stderr",
          "text": [
            "Your max_length is set to 350, but your input_length is only 72. Since this is a summarization task, where outputs shorter than the input are typically wanted, you might consider decreasing max_length manually, e.g. summarizer('...', max_length=36)\n"
          ]
        },
        {
          "output_type": "stream",
          "name": "stdout",
          "text": [
            "[---- 238----]\n",
            "no truncate : 70\n",
            "len tokens : 70 (45)\n"
          ]
        },
        {
          "output_type": "stream",
          "name": "stderr",
          "text": [
            "Your max_length is set to 350, but your input_length is only 127. Since this is a summarization task, where outputs shorter than the input are typically wanted, you might consider decreasing max_length manually, e.g. summarizer('...', max_length=63)\n"
          ]
        },
        {
          "output_type": "stream",
          "name": "stdout",
          "text": [
            "[---- 239----]\n",
            "no truncate : 125\n",
            "len tokens : 125 (79)\n"
          ]
        },
        {
          "output_type": "stream",
          "name": "stderr",
          "text": [
            "Your max_length is set to 350, but your input_length is only 78. Since this is a summarization task, where outputs shorter than the input are typically wanted, you might consider decreasing max_length manually, e.g. summarizer('...', max_length=39)\n"
          ]
        },
        {
          "output_type": "stream",
          "name": "stdout",
          "text": [
            "[---- 240----]\n",
            "no truncate : 76\n",
            "len tokens : 76 (51)\n"
          ]
        },
        {
          "output_type": "stream",
          "name": "stderr",
          "text": [
            "Your max_length is set to 350, but your input_length is only 115. Since this is a summarization task, where outputs shorter than the input are typically wanted, you might consider decreasing max_length manually, e.g. summarizer('...', max_length=57)\n"
          ]
        },
        {
          "output_type": "stream",
          "name": "stdout",
          "text": [
            "[---- 241----]\n",
            "no truncate : 113\n",
            "len tokens : 113 (80)\n"
          ]
        },
        {
          "output_type": "stream",
          "name": "stderr",
          "text": [
            "Your max_length is set to 350, but your input_length is only 80. Since this is a summarization task, where outputs shorter than the input are typically wanted, you might consider decreasing max_length manually, e.g. summarizer('...', max_length=40)\n"
          ]
        },
        {
          "output_type": "stream",
          "name": "stdout",
          "text": [
            "[---- 242----]\n",
            "no truncate : 78\n",
            "len tokens : 78 (52)\n"
          ]
        },
        {
          "output_type": "stream",
          "name": "stderr",
          "text": [
            "Your max_length is set to 350, but your input_length is only 115. Since this is a summarization task, where outputs shorter than the input are typically wanted, you might consider decreasing max_length manually, e.g. summarizer('...', max_length=57)\n"
          ]
        },
        {
          "output_type": "stream",
          "name": "stdout",
          "text": [
            "[---- 243----]\n",
            "no truncate : 113\n",
            "len tokens : 113 (80)\n"
          ]
        }
      ]
    },
    {
      "cell_type": "code",
      "source": [
        "r1, r2, rl = get_rouge_l(sums, refs)\n",
        "print(\"r1 : \" + str(r1) + \" | r2 : \" + str(r2) +\" | rl : \" + str(rl))"
      ],
      "metadata": {
        "colab": {
          "base_uri": "https://localhost:8080/"
        },
        "id": "gBOXbOx3Py4b",
        "outputId": "112e6c14-befa-4e78-c1cd-401764bbf35e"
      },
      "execution_count": 28,
      "outputs": [
        {
          "output_type": "stream",
          "name": "stdout",
          "text": [
            "r1 : 0.2527887218842651 | r2 : 0.05717584641429692 | rl : 0.18633243849651931\n"
          ]
        }
      ]
    },
    {
      "cell_type": "code",
      "source": [
        "sums[2]"
      ],
      "metadata": {
        "id": "MADQhNZOgeqj"
      },
      "execution_count": null,
      "outputs": []
    },
    {
      "cell_type": "code",
      "source": [
        "processed_data[2]"
      ],
      "metadata": {
        "id": "ozD1ZcVbguvi"
      },
      "execution_count": null,
      "outputs": []
    },
    {
      "cell_type": "code",
      "source": [
        "refs[1]"
      ],
      "metadata": {
        "colab": {
          "base_uri": "https://localhost:8080/",
          "height": 72
        },
        "id": "ST6jmgI4gkEz",
        "outputId": "50f8e5f9-320e-4286-ad1a-3ea28fd9de17"
      },
      "execution_count": null,
      "outputs": [
        {
          "output_type": "execute_result",
          "data": {
            "text/plain": [
              "'to save time , speaker mn005 will only mark the sample of transcribed data for regions of overlapping speech , as opposed to marking all acoustic events . the digits extraction task will be delegated to whomever is working on acoustics for the meeting recorder project .'"
            ],
            "application/vnd.google.colaboratory.intrinsic+json": {
              "type": "string"
            }
          },
          "metadata": {},
          "execution_count": 18
        }
      ]
    }
  ]
}